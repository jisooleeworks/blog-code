{
 "cells": [
  {
   "cell_type": "markdown",
   "metadata": {},
   "source": [
    "# Research Question\n",
    "\n",
    "Using a [TMDb movie data set](https://www.kaggle.com/datasets/juzershakir/tmdb-movies-dataset) containing various properties of movies released between 1960 and 2015, I explored what are related to financial success of movies.\n",
    "\n",
    "In this analysis, I intend to find properties related to financial success of movies. In assessing the financial success, I will use **Return on Investment (ROI)**, a measure commonly used in describing profitability. It is calculated by:\n",
    "ROI = (total profit - total expense)/total expense.\n",
    "\n",
    "I chose movies' budget sizes, genres, and vote scores, as potential properties to explore. In other words, to answer **\"what properties are associated with most profitable movies based on ROI?\"**, I will investigate: \n",
    "\n",
    "1. Did high budget movies achieve high ROI?\n",
    "2. Did specific genres lead to high ROI?\n",
    "3. Did high score movies achieve high ROI?"
   ]
  },
  {
   "cell_type": "markdown",
   "metadata": {},
   "source": [
    "**Table of Contents:**\n",
    "1. Overview of the Dataset\n",
    "2. Data Wrangling\n",
    "3. Explore Individual Variables\n",
    "4. Did high budget movies achieve high ROI? (Q1)\n",
    "5. Did specific genres lead to high ROI? (Q2)\n",
    "6. Did high score movies achieve high ROI? (Q3)\n",
    "7. Conclusions"
   ]
  },
  {
   "cell_type": "markdown",
   "metadata": {},
   "source": [
    "# 1. Overview of the Dataset<a class=\"anchor\" id=\"ch1\"></a>\n",
    "\n",
    "In this section, I loaded the dataset and checked structure and quality of it. Especially, the following was noted:\n",
    "- Two columns, 'id' and 'imdb_id', are candidates for a key. But, since 'imdb_id' has null values, 'id' is considered adequate as a key,\n",
    "- For budget and revenue, the dataset stores values adjusted to inflation as well as original numbers,\n",
    "- For budget and revenue, many records have number 0, which is considered valid,\n",
    "- There are 23 nulls in 'genre' column,\n",
    "- Rather than a single genre, many movies are described with multiple genres, e.g., 'Action|Adventure|Science Fiction', and\n",
    "- 'vote_average' column is considered fine; it has no nulls and ranges between 1.5 and 9.2.\n",
    "\n",
    "Note: 'budget_adj', 'revenue_adj', 'genres', and 'vote_scores' columns are used in answering the research questions.  "
   ]
  },
  {
   "cell_type": "code",
   "execution_count": 1,
   "metadata": {},
   "outputs": [],
   "source": [
    "import numpy as np\n",
    "import pandas as pd\n",
    "import matplotlib.pyplot as plt"
   ]
  },
  {
   "cell_type": "code",
   "execution_count": 2,
   "metadata": {},
   "outputs": [],
   "source": [
    "# settings to display all columns\n",
    "pd.set_option(\"display.max_columns\", None)"
   ]
  },
  {
   "cell_type": "code",
   "execution_count": 3,
   "metadata": {},
   "outputs": [
    {
     "data": {
      "text/html": [
       "<div>\n",
       "<style scoped>\n",
       "    .dataframe tbody tr th:only-of-type {\n",
       "        vertical-align: middle;\n",
       "    }\n",
       "\n",
       "    .dataframe tbody tr th {\n",
       "        vertical-align: top;\n",
       "    }\n",
       "\n",
       "    .dataframe thead th {\n",
       "        text-align: right;\n",
       "    }\n",
       "</style>\n",
       "<table border=\"1\" class=\"dataframe\">\n",
       "  <thead>\n",
       "    <tr style=\"text-align: right;\">\n",
       "      <th></th>\n",
       "      <th>id</th>\n",
       "      <th>imdb_id</th>\n",
       "      <th>popularity</th>\n",
       "      <th>budget</th>\n",
       "      <th>revenue</th>\n",
       "      <th>original_title</th>\n",
       "      <th>cast</th>\n",
       "      <th>homepage</th>\n",
       "      <th>director</th>\n",
       "      <th>tagline</th>\n",
       "      <th>keywords</th>\n",
       "      <th>overview</th>\n",
       "      <th>runtime</th>\n",
       "      <th>genres</th>\n",
       "      <th>production_companies</th>\n",
       "      <th>release_date</th>\n",
       "      <th>vote_count</th>\n",
       "      <th>vote_average</th>\n",
       "      <th>release_year</th>\n",
       "      <th>budget_adj</th>\n",
       "      <th>revenue_adj</th>\n",
       "    </tr>\n",
       "  </thead>\n",
       "  <tbody>\n",
       "    <tr>\n",
       "      <th>0</th>\n",
       "      <td>135397</td>\n",
       "      <td>tt0369610</td>\n",
       "      <td>32.985763</td>\n",
       "      <td>150000000</td>\n",
       "      <td>1513528810</td>\n",
       "      <td>Jurassic World</td>\n",
       "      <td>Chris Pratt|Bryce Dallas Howard|Irrfan Khan|Vi...</td>\n",
       "      <td>http://www.jurassicworld.com/</td>\n",
       "      <td>Colin Trevorrow</td>\n",
       "      <td>The park is open.</td>\n",
       "      <td>monster|dna|tyrannosaurus rex|velociraptor|island</td>\n",
       "      <td>Twenty-two years after the events of Jurassic ...</td>\n",
       "      <td>124</td>\n",
       "      <td>Action|Adventure|Science Fiction|Thriller</td>\n",
       "      <td>Universal Studios|Amblin Entertainment|Legenda...</td>\n",
       "      <td>6/9/15</td>\n",
       "      <td>5562</td>\n",
       "      <td>6.5</td>\n",
       "      <td>2015</td>\n",
       "      <td>1.379999e+08</td>\n",
       "      <td>1.392446e+09</td>\n",
       "    </tr>\n",
       "    <tr>\n",
       "      <th>1</th>\n",
       "      <td>76341</td>\n",
       "      <td>tt1392190</td>\n",
       "      <td>28.419936</td>\n",
       "      <td>150000000</td>\n",
       "      <td>378436354</td>\n",
       "      <td>Mad Max: Fury Road</td>\n",
       "      <td>Tom Hardy|Charlize Theron|Hugh Keays-Byrne|Nic...</td>\n",
       "      <td>http://www.madmaxmovie.com/</td>\n",
       "      <td>George Miller</td>\n",
       "      <td>What a Lovely Day.</td>\n",
       "      <td>future|chase|post-apocalyptic|dystopia|australia</td>\n",
       "      <td>An apocalyptic story set in the furthest reach...</td>\n",
       "      <td>120</td>\n",
       "      <td>Action|Adventure|Science Fiction|Thriller</td>\n",
       "      <td>Village Roadshow Pictures|Kennedy Miller Produ...</td>\n",
       "      <td>5/13/15</td>\n",
       "      <td>6185</td>\n",
       "      <td>7.1</td>\n",
       "      <td>2015</td>\n",
       "      <td>1.379999e+08</td>\n",
       "      <td>3.481613e+08</td>\n",
       "    </tr>\n",
       "    <tr>\n",
       "      <th>2</th>\n",
       "      <td>262500</td>\n",
       "      <td>tt2908446</td>\n",
       "      <td>13.112507</td>\n",
       "      <td>110000000</td>\n",
       "      <td>295238201</td>\n",
       "      <td>Insurgent</td>\n",
       "      <td>Shailene Woodley|Theo James|Kate Winslet|Ansel...</td>\n",
       "      <td>http://www.thedivergentseries.movie/#insurgent</td>\n",
       "      <td>Robert Schwentke</td>\n",
       "      <td>One Choice Can Destroy You</td>\n",
       "      <td>based on novel|revolution|dystopia|sequel|dyst...</td>\n",
       "      <td>Beatrice Prior must confront her inner demons ...</td>\n",
       "      <td>119</td>\n",
       "      <td>Adventure|Science Fiction|Thriller</td>\n",
       "      <td>Summit Entertainment|Mandeville Films|Red Wago...</td>\n",
       "      <td>3/18/15</td>\n",
       "      <td>2480</td>\n",
       "      <td>6.3</td>\n",
       "      <td>2015</td>\n",
       "      <td>1.012000e+08</td>\n",
       "      <td>2.716190e+08</td>\n",
       "    </tr>\n",
       "    <tr>\n",
       "      <th>3</th>\n",
       "      <td>140607</td>\n",
       "      <td>tt2488496</td>\n",
       "      <td>11.173104</td>\n",
       "      <td>200000000</td>\n",
       "      <td>2068178225</td>\n",
       "      <td>Star Wars: The Force Awakens</td>\n",
       "      <td>Harrison Ford|Mark Hamill|Carrie Fisher|Adam D...</td>\n",
       "      <td>http://www.starwars.com/films/star-wars-episod...</td>\n",
       "      <td>J.J. Abrams</td>\n",
       "      <td>Every generation has a story.</td>\n",
       "      <td>android|spaceship|jedi|space opera|3d</td>\n",
       "      <td>Thirty years after defeating the Galactic Empi...</td>\n",
       "      <td>136</td>\n",
       "      <td>Action|Adventure|Science Fiction|Fantasy</td>\n",
       "      <td>Lucasfilm|Truenorth Productions|Bad Robot</td>\n",
       "      <td>12/15/15</td>\n",
       "      <td>5292</td>\n",
       "      <td>7.5</td>\n",
       "      <td>2015</td>\n",
       "      <td>1.839999e+08</td>\n",
       "      <td>1.902723e+09</td>\n",
       "    </tr>\n",
       "    <tr>\n",
       "      <th>4</th>\n",
       "      <td>168259</td>\n",
       "      <td>tt2820852</td>\n",
       "      <td>9.335014</td>\n",
       "      <td>190000000</td>\n",
       "      <td>1506249360</td>\n",
       "      <td>Furious 7</td>\n",
       "      <td>Vin Diesel|Paul Walker|Jason Statham|Michelle ...</td>\n",
       "      <td>http://www.furious7.com/</td>\n",
       "      <td>James Wan</td>\n",
       "      <td>Vengeance Hits Home</td>\n",
       "      <td>car race|speed|revenge|suspense|car</td>\n",
       "      <td>Deckard Shaw seeks revenge against Dominic Tor...</td>\n",
       "      <td>137</td>\n",
       "      <td>Action|Crime|Thriller</td>\n",
       "      <td>Universal Pictures|Original Film|Media Rights ...</td>\n",
       "      <td>4/1/15</td>\n",
       "      <td>2947</td>\n",
       "      <td>7.3</td>\n",
       "      <td>2015</td>\n",
       "      <td>1.747999e+08</td>\n",
       "      <td>1.385749e+09</td>\n",
       "    </tr>\n",
       "  </tbody>\n",
       "</table>\n",
       "</div>"
      ],
      "text/plain": [
       "       id    imdb_id  popularity     budget     revenue  \\\n",
       "0  135397  tt0369610   32.985763  150000000  1513528810   \n",
       "1   76341  tt1392190   28.419936  150000000   378436354   \n",
       "2  262500  tt2908446   13.112507  110000000   295238201   \n",
       "3  140607  tt2488496   11.173104  200000000  2068178225   \n",
       "4  168259  tt2820852    9.335014  190000000  1506249360   \n",
       "\n",
       "                 original_title  \\\n",
       "0                Jurassic World   \n",
       "1            Mad Max: Fury Road   \n",
       "2                     Insurgent   \n",
       "3  Star Wars: The Force Awakens   \n",
       "4                     Furious 7   \n",
       "\n",
       "                                                cast  \\\n",
       "0  Chris Pratt|Bryce Dallas Howard|Irrfan Khan|Vi...   \n",
       "1  Tom Hardy|Charlize Theron|Hugh Keays-Byrne|Nic...   \n",
       "2  Shailene Woodley|Theo James|Kate Winslet|Ansel...   \n",
       "3  Harrison Ford|Mark Hamill|Carrie Fisher|Adam D...   \n",
       "4  Vin Diesel|Paul Walker|Jason Statham|Michelle ...   \n",
       "\n",
       "                                            homepage          director  \\\n",
       "0                      http://www.jurassicworld.com/   Colin Trevorrow   \n",
       "1                        http://www.madmaxmovie.com/     George Miller   \n",
       "2     http://www.thedivergentseries.movie/#insurgent  Robert Schwentke   \n",
       "3  http://www.starwars.com/films/star-wars-episod...       J.J. Abrams   \n",
       "4                           http://www.furious7.com/         James Wan   \n",
       "\n",
       "                         tagline  \\\n",
       "0              The park is open.   \n",
       "1             What a Lovely Day.   \n",
       "2     One Choice Can Destroy You   \n",
       "3  Every generation has a story.   \n",
       "4            Vengeance Hits Home   \n",
       "\n",
       "                                            keywords  \\\n",
       "0  monster|dna|tyrannosaurus rex|velociraptor|island   \n",
       "1   future|chase|post-apocalyptic|dystopia|australia   \n",
       "2  based on novel|revolution|dystopia|sequel|dyst...   \n",
       "3              android|spaceship|jedi|space opera|3d   \n",
       "4                car race|speed|revenge|suspense|car   \n",
       "\n",
       "                                            overview  runtime  \\\n",
       "0  Twenty-two years after the events of Jurassic ...      124   \n",
       "1  An apocalyptic story set in the furthest reach...      120   \n",
       "2  Beatrice Prior must confront her inner demons ...      119   \n",
       "3  Thirty years after defeating the Galactic Empi...      136   \n",
       "4  Deckard Shaw seeks revenge against Dominic Tor...      137   \n",
       "\n",
       "                                      genres  \\\n",
       "0  Action|Adventure|Science Fiction|Thriller   \n",
       "1  Action|Adventure|Science Fiction|Thriller   \n",
       "2         Adventure|Science Fiction|Thriller   \n",
       "3   Action|Adventure|Science Fiction|Fantasy   \n",
       "4                      Action|Crime|Thriller   \n",
       "\n",
       "                                production_companies release_date  vote_count  \\\n",
       "0  Universal Studios|Amblin Entertainment|Legenda...       6/9/15        5562   \n",
       "1  Village Roadshow Pictures|Kennedy Miller Produ...      5/13/15        6185   \n",
       "2  Summit Entertainment|Mandeville Films|Red Wago...      3/18/15        2480   \n",
       "3          Lucasfilm|Truenorth Productions|Bad Robot     12/15/15        5292   \n",
       "4  Universal Pictures|Original Film|Media Rights ...       4/1/15        2947   \n",
       "\n",
       "   vote_average  release_year    budget_adj   revenue_adj  \n",
       "0           6.5          2015  1.379999e+08  1.392446e+09  \n",
       "1           7.1          2015  1.379999e+08  3.481613e+08  \n",
       "2           6.3          2015  1.012000e+08  2.716190e+08  \n",
       "3           7.5          2015  1.839999e+08  1.902723e+09  \n",
       "4           7.3          2015  1.747999e+08  1.385749e+09  "
      ]
     },
     "execution_count": 3,
     "metadata": {},
     "output_type": "execute_result"
    }
   ],
   "source": [
    "# Load dataset\n",
    "df = pd.read_csv(\"_data/tmdb-movies.csv\")\n",
    "df.head()"
   ]
  },
  {
   "cell_type": "code",
   "execution_count": 4,
   "metadata": {},
   "outputs": [
    {
     "name": "stdout",
     "output_type": "stream",
     "text": [
      "<class 'pandas.core.frame.DataFrame'>\n",
      "RangeIndex: 10866 entries, 0 to 10865\n",
      "Data columns (total 21 columns):\n",
      " #   Column                Non-Null Count  Dtype  \n",
      "---  ------                --------------  -----  \n",
      " 0   id                    10866 non-null  int64  \n",
      " 1   imdb_id               10856 non-null  object \n",
      " 2   popularity            10866 non-null  float64\n",
      " 3   budget                10866 non-null  int64  \n",
      " 4   revenue               10866 non-null  int64  \n",
      " 5   original_title        10866 non-null  object \n",
      " 6   cast                  10790 non-null  object \n",
      " 7   homepage              2936 non-null   object \n",
      " 8   director              10822 non-null  object \n",
      " 9   tagline               8042 non-null   object \n",
      " 10  keywords              9373 non-null   object \n",
      " 11  overview              10862 non-null  object \n",
      " 12  runtime               10866 non-null  int64  \n",
      " 13  genres                10843 non-null  object \n",
      " 14  production_companies  9836 non-null   object \n",
      " 15  release_date          10866 non-null  object \n",
      " 16  vote_count            10866 non-null  int64  \n",
      " 17  vote_average          10866 non-null  float64\n",
      " 18  release_year          10866 non-null  int64  \n",
      " 19  budget_adj            10866 non-null  float64\n",
      " 20  revenue_adj           10866 non-null  float64\n",
      "dtypes: float64(4), int64(6), object(11)\n",
      "memory usage: 1.7+ MB\n"
     ]
    }
   ],
   "source": [
    "df.info()"
   ]
  },
  {
   "cell_type": "code",
   "execution_count": 5,
   "metadata": {},
   "outputs": [
    {
     "data": {
      "text/html": [
       "<div>\n",
       "<style scoped>\n",
       "    .dataframe tbody tr th:only-of-type {\n",
       "        vertical-align: middle;\n",
       "    }\n",
       "\n",
       "    .dataframe tbody tr th {\n",
       "        vertical-align: top;\n",
       "    }\n",
       "\n",
       "    .dataframe thead th {\n",
       "        text-align: right;\n",
       "    }\n",
       "</style>\n",
       "<table border=\"1\" class=\"dataframe\">\n",
       "  <thead>\n",
       "    <tr style=\"text-align: right;\">\n",
       "      <th></th>\n",
       "      <th>id</th>\n",
       "      <th>popularity</th>\n",
       "      <th>budget</th>\n",
       "      <th>revenue</th>\n",
       "      <th>runtime</th>\n",
       "      <th>vote_count</th>\n",
       "      <th>vote_average</th>\n",
       "      <th>release_year</th>\n",
       "      <th>budget_adj</th>\n",
       "      <th>revenue_adj</th>\n",
       "    </tr>\n",
       "  </thead>\n",
       "  <tbody>\n",
       "    <tr>\n",
       "      <th>count</th>\n",
       "      <td>10866.000000</td>\n",
       "      <td>10866.000000</td>\n",
       "      <td>1.086600e+04</td>\n",
       "      <td>1.086600e+04</td>\n",
       "      <td>10866.000000</td>\n",
       "      <td>10866.000000</td>\n",
       "      <td>10866.000000</td>\n",
       "      <td>10866.000000</td>\n",
       "      <td>1.086600e+04</td>\n",
       "      <td>1.086600e+04</td>\n",
       "    </tr>\n",
       "    <tr>\n",
       "      <th>mean</th>\n",
       "      <td>66064.177434</td>\n",
       "      <td>0.646441</td>\n",
       "      <td>1.462570e+07</td>\n",
       "      <td>3.982332e+07</td>\n",
       "      <td>102.070863</td>\n",
       "      <td>217.389748</td>\n",
       "      <td>5.974922</td>\n",
       "      <td>2001.322658</td>\n",
       "      <td>1.755104e+07</td>\n",
       "      <td>5.136436e+07</td>\n",
       "    </tr>\n",
       "    <tr>\n",
       "      <th>std</th>\n",
       "      <td>92130.136561</td>\n",
       "      <td>1.000185</td>\n",
       "      <td>3.091321e+07</td>\n",
       "      <td>1.170035e+08</td>\n",
       "      <td>31.381405</td>\n",
       "      <td>575.619058</td>\n",
       "      <td>0.935142</td>\n",
       "      <td>12.812941</td>\n",
       "      <td>3.430616e+07</td>\n",
       "      <td>1.446325e+08</td>\n",
       "    </tr>\n",
       "    <tr>\n",
       "      <th>min</th>\n",
       "      <td>5.000000</td>\n",
       "      <td>0.000065</td>\n",
       "      <td>0.000000e+00</td>\n",
       "      <td>0.000000e+00</td>\n",
       "      <td>0.000000</td>\n",
       "      <td>10.000000</td>\n",
       "      <td>1.500000</td>\n",
       "      <td>1960.000000</td>\n",
       "      <td>0.000000e+00</td>\n",
       "      <td>0.000000e+00</td>\n",
       "    </tr>\n",
       "    <tr>\n",
       "      <th>25%</th>\n",
       "      <td>10596.250000</td>\n",
       "      <td>0.207583</td>\n",
       "      <td>0.000000e+00</td>\n",
       "      <td>0.000000e+00</td>\n",
       "      <td>90.000000</td>\n",
       "      <td>17.000000</td>\n",
       "      <td>5.400000</td>\n",
       "      <td>1995.000000</td>\n",
       "      <td>0.000000e+00</td>\n",
       "      <td>0.000000e+00</td>\n",
       "    </tr>\n",
       "    <tr>\n",
       "      <th>50%</th>\n",
       "      <td>20669.000000</td>\n",
       "      <td>0.383856</td>\n",
       "      <td>0.000000e+00</td>\n",
       "      <td>0.000000e+00</td>\n",
       "      <td>99.000000</td>\n",
       "      <td>38.000000</td>\n",
       "      <td>6.000000</td>\n",
       "      <td>2006.000000</td>\n",
       "      <td>0.000000e+00</td>\n",
       "      <td>0.000000e+00</td>\n",
       "    </tr>\n",
       "    <tr>\n",
       "      <th>75%</th>\n",
       "      <td>75610.000000</td>\n",
       "      <td>0.713817</td>\n",
       "      <td>1.500000e+07</td>\n",
       "      <td>2.400000e+07</td>\n",
       "      <td>111.000000</td>\n",
       "      <td>145.750000</td>\n",
       "      <td>6.600000</td>\n",
       "      <td>2011.000000</td>\n",
       "      <td>2.085325e+07</td>\n",
       "      <td>3.369710e+07</td>\n",
       "    </tr>\n",
       "    <tr>\n",
       "      <th>max</th>\n",
       "      <td>417859.000000</td>\n",
       "      <td>32.985763</td>\n",
       "      <td>4.250000e+08</td>\n",
       "      <td>2.781506e+09</td>\n",
       "      <td>900.000000</td>\n",
       "      <td>9767.000000</td>\n",
       "      <td>9.200000</td>\n",
       "      <td>2015.000000</td>\n",
       "      <td>4.250000e+08</td>\n",
       "      <td>2.827124e+09</td>\n",
       "    </tr>\n",
       "  </tbody>\n",
       "</table>\n",
       "</div>"
      ],
      "text/plain": [
       "                  id    popularity        budget       revenue       runtime  \\\n",
       "count   10866.000000  10866.000000  1.086600e+04  1.086600e+04  10866.000000   \n",
       "mean    66064.177434      0.646441  1.462570e+07  3.982332e+07    102.070863   \n",
       "std     92130.136561      1.000185  3.091321e+07  1.170035e+08     31.381405   \n",
       "min         5.000000      0.000065  0.000000e+00  0.000000e+00      0.000000   \n",
       "25%     10596.250000      0.207583  0.000000e+00  0.000000e+00     90.000000   \n",
       "50%     20669.000000      0.383856  0.000000e+00  0.000000e+00     99.000000   \n",
       "75%     75610.000000      0.713817  1.500000e+07  2.400000e+07    111.000000   \n",
       "max    417859.000000     32.985763  4.250000e+08  2.781506e+09    900.000000   \n",
       "\n",
       "         vote_count  vote_average  release_year    budget_adj   revenue_adj  \n",
       "count  10866.000000  10866.000000  10866.000000  1.086600e+04  1.086600e+04  \n",
       "mean     217.389748      5.974922   2001.322658  1.755104e+07  5.136436e+07  \n",
       "std      575.619058      0.935142     12.812941  3.430616e+07  1.446325e+08  \n",
       "min       10.000000      1.500000   1960.000000  0.000000e+00  0.000000e+00  \n",
       "25%       17.000000      5.400000   1995.000000  0.000000e+00  0.000000e+00  \n",
       "50%       38.000000      6.000000   2006.000000  0.000000e+00  0.000000e+00  \n",
       "75%      145.750000      6.600000   2011.000000  2.085325e+07  3.369710e+07  \n",
       "max     9767.000000      9.200000   2015.000000  4.250000e+08  2.827124e+09  "
      ]
     },
     "execution_count": 5,
     "metadata": {},
     "output_type": "execute_result"
    }
   ],
   "source": [
    "df.describe()"
   ]
  },
  {
   "cell_type": "markdown",
   "metadata": {},
   "source": [
    "# 2. Data Wrangling<a class=\"anchor\" id=\"ch2\"></a>\n",
    "\n",
    "This section addresses: \n",
    "1. Duplicated records\n",
    "2. Incorrect values\n",
    "3. Missing values\n",
    "4. Calculation of ROI\n",
    "5. Datatypes\n",
    "6. Columns irrelevant to the analysis\n",
    "7. Outliers"
   ]
  },
  {
   "cell_type": "markdown",
   "metadata": {},
   "source": [
    "## 2.1. Duplicates"
   ]
  },
  {
   "cell_type": "code",
   "execution_count": 6,
   "metadata": {},
   "outputs": [
    {
     "data": {
      "text/plain": [
       "10865"
      ]
     },
     "execution_count": 6,
     "metadata": {},
     "output_type": "execute_result"
    }
   ],
   "source": [
    "df['id'].nunique() # Total number of entries is 10866"
   ]
  },
  {
   "cell_type": "markdown",
   "metadata": {},
   "source": [
    "The output is one fewer than the toal number of entries, which means there is a duplicate. "
   ]
  },
  {
   "cell_type": "code",
   "execution_count": 7,
   "metadata": {},
   "outputs": [
    {
     "data": {
      "text/html": [
       "<div>\n",
       "<style scoped>\n",
       "    .dataframe tbody tr th:only-of-type {\n",
       "        vertical-align: middle;\n",
       "    }\n",
       "\n",
       "    .dataframe tbody tr th {\n",
       "        vertical-align: top;\n",
       "    }\n",
       "\n",
       "    .dataframe thead th {\n",
       "        text-align: right;\n",
       "    }\n",
       "</style>\n",
       "<table border=\"1\" class=\"dataframe\">\n",
       "  <thead>\n",
       "    <tr style=\"text-align: right;\">\n",
       "      <th></th>\n",
       "      <th>id</th>\n",
       "      <th>imdb_id</th>\n",
       "      <th>popularity</th>\n",
       "      <th>budget</th>\n",
       "      <th>revenue</th>\n",
       "      <th>original_title</th>\n",
       "      <th>cast</th>\n",
       "      <th>homepage</th>\n",
       "      <th>director</th>\n",
       "      <th>tagline</th>\n",
       "      <th>keywords</th>\n",
       "      <th>overview</th>\n",
       "      <th>runtime</th>\n",
       "      <th>genres</th>\n",
       "      <th>production_companies</th>\n",
       "      <th>release_date</th>\n",
       "      <th>vote_count</th>\n",
       "      <th>vote_average</th>\n",
       "      <th>release_year</th>\n",
       "      <th>budget_adj</th>\n",
       "      <th>revenue_adj</th>\n",
       "    </tr>\n",
       "  </thead>\n",
       "  <tbody>\n",
       "    <tr>\n",
       "      <th>2089</th>\n",
       "      <td>42194</td>\n",
       "      <td>tt0411951</td>\n",
       "      <td>0.59643</td>\n",
       "      <td>30000000</td>\n",
       "      <td>967000</td>\n",
       "      <td>TEKKEN</td>\n",
       "      <td>Jon Foo|Kelly Overton|Cary-Hiroyuki Tagawa|Ian...</td>\n",
       "      <td>NaN</td>\n",
       "      <td>Dwight H. Little</td>\n",
       "      <td>Survival is no game</td>\n",
       "      <td>martial arts|dystopia|based on video game|mart...</td>\n",
       "      <td>In the year of 2039, after World Wars destroy ...</td>\n",
       "      <td>92</td>\n",
       "      <td>Crime|Drama|Action|Thriller|Science Fiction</td>\n",
       "      <td>Namco|Light Song Films</td>\n",
       "      <td>3/20/10</td>\n",
       "      <td>110</td>\n",
       "      <td>5.0</td>\n",
       "      <td>2010</td>\n",
       "      <td>30000000.0</td>\n",
       "      <td>967000.0</td>\n",
       "    </tr>\n",
       "    <tr>\n",
       "      <th>2090</th>\n",
       "      <td>42194</td>\n",
       "      <td>tt0411951</td>\n",
       "      <td>0.59643</td>\n",
       "      <td>30000000</td>\n",
       "      <td>967000</td>\n",
       "      <td>TEKKEN</td>\n",
       "      <td>Jon Foo|Kelly Overton|Cary-Hiroyuki Tagawa|Ian...</td>\n",
       "      <td>NaN</td>\n",
       "      <td>Dwight H. Little</td>\n",
       "      <td>Survival is no game</td>\n",
       "      <td>martial arts|dystopia|based on video game|mart...</td>\n",
       "      <td>In the year of 2039, after World Wars destroy ...</td>\n",
       "      <td>92</td>\n",
       "      <td>Crime|Drama|Action|Thriller|Science Fiction</td>\n",
       "      <td>Namco|Light Song Films</td>\n",
       "      <td>3/20/10</td>\n",
       "      <td>110</td>\n",
       "      <td>5.0</td>\n",
       "      <td>2010</td>\n",
       "      <td>30000000.0</td>\n",
       "      <td>967000.0</td>\n",
       "    </tr>\n",
       "  </tbody>\n",
       "</table>\n",
       "</div>"
      ],
      "text/plain": [
       "         id    imdb_id  popularity    budget  revenue original_title  \\\n",
       "2089  42194  tt0411951     0.59643  30000000   967000         TEKKEN   \n",
       "2090  42194  tt0411951     0.59643  30000000   967000         TEKKEN   \n",
       "\n",
       "                                                   cast homepage  \\\n",
       "2089  Jon Foo|Kelly Overton|Cary-Hiroyuki Tagawa|Ian...      NaN   \n",
       "2090  Jon Foo|Kelly Overton|Cary-Hiroyuki Tagawa|Ian...      NaN   \n",
       "\n",
       "              director              tagline  \\\n",
       "2089  Dwight H. Little  Survival is no game   \n",
       "2090  Dwight H. Little  Survival is no game   \n",
       "\n",
       "                                               keywords  \\\n",
       "2089  martial arts|dystopia|based on video game|mart...   \n",
       "2090  martial arts|dystopia|based on video game|mart...   \n",
       "\n",
       "                                               overview  runtime  \\\n",
       "2089  In the year of 2039, after World Wars destroy ...       92   \n",
       "2090  In the year of 2039, after World Wars destroy ...       92   \n",
       "\n",
       "                                           genres    production_companies  \\\n",
       "2089  Crime|Drama|Action|Thriller|Science Fiction  Namco|Light Song Films   \n",
       "2090  Crime|Drama|Action|Thriller|Science Fiction  Namco|Light Song Films   \n",
       "\n",
       "     release_date  vote_count  vote_average  release_year  budget_adj  \\\n",
       "2089      3/20/10         110           5.0          2010  30000000.0   \n",
       "2090      3/20/10         110           5.0          2010  30000000.0   \n",
       "\n",
       "      revenue_adj  \n",
       "2089     967000.0  \n",
       "2090     967000.0  "
      ]
     },
     "execution_count": 7,
     "metadata": {},
     "output_type": "execute_result"
    }
   ],
   "source": [
    "# To find duplicated 'id's\n",
    "df[df.duplicated(['id'], keep = False)]"
   ]
  },
  {
   "cell_type": "code",
   "execution_count": 8,
   "metadata": {},
   "outputs": [
    {
     "data": {
      "text/plain": [
       "(10865, 21)"
      ]
     },
     "execution_count": 8,
     "metadata": {},
     "output_type": "execute_result"
    }
   ],
   "source": [
    "# Two identical records found above. To delete one of them:\n",
    "df.drop(index = 2090, inplace = True)\n",
    "df.shape"
   ]
  },
  {
   "cell_type": "code",
   "execution_count": 9,
   "metadata": {},
   "outputs": [
    {
     "data": {
      "text/html": [
       "<div>\n",
       "<style scoped>\n",
       "    .dataframe tbody tr th:only-of-type {\n",
       "        vertical-align: middle;\n",
       "    }\n",
       "\n",
       "    .dataframe tbody tr th {\n",
       "        vertical-align: top;\n",
       "    }\n",
       "\n",
       "    .dataframe thead th {\n",
       "        text-align: right;\n",
       "    }\n",
       "</style>\n",
       "<table border=\"1\" class=\"dataframe\">\n",
       "  <thead>\n",
       "    <tr style=\"text-align: right;\">\n",
       "      <th></th>\n",
       "      <th>original_title</th>\n",
       "      <th>director</th>\n",
       "      <th>release_year</th>\n",
       "      <th>runtime</th>\n",
       "    </tr>\n",
       "  </thead>\n",
       "  <tbody>\n",
       "    <tr>\n",
       "      <th>1400</th>\n",
       "      <td>9</td>\n",
       "      <td>Shane Acker</td>\n",
       "      <td>2009</td>\n",
       "      <td>79</td>\n",
       "    </tr>\n",
       "    <tr>\n",
       "      <th>6514</th>\n",
       "      <td>9</td>\n",
       "      <td>Shane Acker</td>\n",
       "      <td>2005</td>\n",
       "      <td>11</td>\n",
       "    </tr>\n",
       "    <tr>\n",
       "      <th>4337</th>\n",
       "      <td>Bottle Rocket</td>\n",
       "      <td>Wes Anderson</td>\n",
       "      <td>1994</td>\n",
       "      <td>13</td>\n",
       "    </tr>\n",
       "    <tr>\n",
       "      <th>8547</th>\n",
       "      <td>Bottle Rocket</td>\n",
       "      <td>Wes Anderson</td>\n",
       "      <td>1996</td>\n",
       "      <td>91</td>\n",
       "    </tr>\n",
       "    <tr>\n",
       "      <th>4451</th>\n",
       "      <td>Frankenweenie</td>\n",
       "      <td>Tim Burton</td>\n",
       "      <td>2012</td>\n",
       "      <td>87</td>\n",
       "    </tr>\n",
       "    <tr>\n",
       "      <th>7943</th>\n",
       "      <td>Frankenweenie</td>\n",
       "      <td>Tim Burton</td>\n",
       "      <td>1984</td>\n",
       "      <td>29</td>\n",
       "    </tr>\n",
       "    <tr>\n",
       "      <th>4063</th>\n",
       "      <td>Madea's Family Reunion</td>\n",
       "      <td>Tyler Perry</td>\n",
       "      <td>2002</td>\n",
       "      <td>0</td>\n",
       "    </tr>\n",
       "    <tr>\n",
       "      <th>6701</th>\n",
       "      <td>Madea's Family Reunion</td>\n",
       "      <td>Tyler Perry</td>\n",
       "      <td>2006</td>\n",
       "      <td>110</td>\n",
       "    </tr>\n",
       "    <tr>\n",
       "      <th>5202</th>\n",
       "      <td>Saw</td>\n",
       "      <td>James Wan</td>\n",
       "      <td>2003</td>\n",
       "      <td>9</td>\n",
       "    </tr>\n",
       "    <tr>\n",
       "      <th>7011</th>\n",
       "      <td>Saw</td>\n",
       "      <td>James Wan</td>\n",
       "      <td>2004</td>\n",
       "      <td>103</td>\n",
       "    </tr>\n",
       "  </tbody>\n",
       "</table>\n",
       "</div>"
      ],
      "text/plain": [
       "              original_title      director  release_year  runtime\n",
       "1400                       9   Shane Acker          2009       79\n",
       "6514                       9   Shane Acker          2005       11\n",
       "4337           Bottle Rocket  Wes Anderson          1994       13\n",
       "8547           Bottle Rocket  Wes Anderson          1996       91\n",
       "4451           Frankenweenie    Tim Burton          2012       87\n",
       "7943           Frankenweenie    Tim Burton          1984       29\n",
       "4063  Madea's Family Reunion   Tyler Perry          2002        0\n",
       "6701  Madea's Family Reunion   Tyler Perry          2006      110\n",
       "5202                     Saw     James Wan          2003        9\n",
       "7011                     Saw     James Wan          2004      103"
      ]
     },
     "execution_count": 9,
     "metadata": {},
     "output_type": "execute_result"
    }
   ],
   "source": [
    "# To find movies with the same title, director, and release year\n",
    "df[df.duplicated(['original_title', 'director', ], keep = False)]\\\n",
    "    [['original_title', 'director', 'release_year', 'runtime']].sort_values(by=['original_title'])\n",
    "\n",
    "# The below shows a few cases. I googled and found that it sometimes happens;\n",
    "# e.g., a director makes a 'mini' version before the full scale.\n",
    "# Thus, these records are kept for the analysis. "
   ]
  },
  {
   "cell_type": "markdown",
   "metadata": {},
   "source": [
    "## 2.2. Incorrect values\n",
    "\n",
    "I check if numbers on the most budget and revenue movies are correct. "
   ]
  },
  {
   "cell_type": "code",
   "execution_count": 10,
   "metadata": {},
   "outputs": [
    {
     "data": {
      "text/html": [
       "<div>\n",
       "<style scoped>\n",
       "    .dataframe tbody tr th:only-of-type {\n",
       "        vertical-align: middle;\n",
       "    }\n",
       "\n",
       "    .dataframe tbody tr th {\n",
       "        vertical-align: top;\n",
       "    }\n",
       "\n",
       "    .dataframe thead th {\n",
       "        text-align: right;\n",
       "    }\n",
       "</style>\n",
       "<table border=\"1\" class=\"dataframe\">\n",
       "  <thead>\n",
       "    <tr style=\"text-align: right;\">\n",
       "      <th></th>\n",
       "      <th>id</th>\n",
       "      <th>imdb_id</th>\n",
       "      <th>popularity</th>\n",
       "      <th>budget</th>\n",
       "      <th>revenue</th>\n",
       "      <th>original_title</th>\n",
       "      <th>cast</th>\n",
       "      <th>homepage</th>\n",
       "      <th>director</th>\n",
       "      <th>tagline</th>\n",
       "      <th>keywords</th>\n",
       "      <th>overview</th>\n",
       "      <th>runtime</th>\n",
       "      <th>genres</th>\n",
       "      <th>production_companies</th>\n",
       "      <th>release_date</th>\n",
       "      <th>vote_count</th>\n",
       "      <th>vote_average</th>\n",
       "      <th>release_year</th>\n",
       "      <th>budget_adj</th>\n",
       "      <th>revenue_adj</th>\n",
       "    </tr>\n",
       "  </thead>\n",
       "  <tbody>\n",
       "    <tr>\n",
       "      <th>2244</th>\n",
       "      <td>46528</td>\n",
       "      <td>tt1032751</td>\n",
       "      <td>0.25054</td>\n",
       "      <td>425000000</td>\n",
       "      <td>11087569</td>\n",
       "      <td>The Warrior's Way</td>\n",
       "      <td>Kate Bosworth|Jang Dong-gun|Geoffrey Rush|Dann...</td>\n",
       "      <td>http://www.iamrogue.com/thewarriorsway</td>\n",
       "      <td>Sngmoo Lee</td>\n",
       "      <td>Assassin. Hero. Legend.</td>\n",
       "      <td>assassin|small town|revenge|deception|super speed</td>\n",
       "      <td>An Asian assassin (Dong-gun Jang) is forced to...</td>\n",
       "      <td>100</td>\n",
       "      <td>Adventure|Fantasy|Action|Western|Thriller</td>\n",
       "      <td>Boram Entertainment Inc.</td>\n",
       "      <td>12/2/10</td>\n",
       "      <td>74</td>\n",
       "      <td>6.4</td>\n",
       "      <td>2010</td>\n",
       "      <td>425000000.0</td>\n",
       "      <td>11087569.0</td>\n",
       "    </tr>\n",
       "  </tbody>\n",
       "</table>\n",
       "</div>"
      ],
      "text/plain": [
       "         id    imdb_id  popularity     budget   revenue     original_title  \\\n",
       "2244  46528  tt1032751     0.25054  425000000  11087569  The Warrior's Way   \n",
       "\n",
       "                                                   cast  \\\n",
       "2244  Kate Bosworth|Jang Dong-gun|Geoffrey Rush|Dann...   \n",
       "\n",
       "                                    homepage    director  \\\n",
       "2244  http://www.iamrogue.com/thewarriorsway  Sngmoo Lee   \n",
       "\n",
       "                      tagline  \\\n",
       "2244  Assassin. Hero. Legend.   \n",
       "\n",
       "                                               keywords  \\\n",
       "2244  assassin|small town|revenge|deception|super speed   \n",
       "\n",
       "                                               overview  runtime  \\\n",
       "2244  An Asian assassin (Dong-gun Jang) is forced to...      100   \n",
       "\n",
       "                                         genres      production_companies  \\\n",
       "2244  Adventure|Fantasy|Action|Western|Thriller  Boram Entertainment Inc.   \n",
       "\n",
       "     release_date  vote_count  vote_average  release_year   budget_adj  \\\n",
       "2244      12/2/10          74           6.4          2010  425000000.0   \n",
       "\n",
       "      revenue_adj  \n",
       "2244   11087569.0  "
      ]
     },
     "execution_count": 10,
     "metadata": {},
     "output_type": "execute_result"
    }
   ],
   "source": [
    "# To find which movie used the most budget\n",
    "df[df['budget_adj'] == df['budget_adj'].max()]"
   ]
  },
  {
   "cell_type": "code",
   "execution_count": 11,
   "metadata": {},
   "outputs": [
    {
     "data": {
      "text/html": [
       "<div>\n",
       "<style scoped>\n",
       "    .dataframe tbody tr th:only-of-type {\n",
       "        vertical-align: middle;\n",
       "    }\n",
       "\n",
       "    .dataframe tbody tr th {\n",
       "        vertical-align: top;\n",
       "    }\n",
       "\n",
       "    .dataframe thead th {\n",
       "        text-align: right;\n",
       "    }\n",
       "</style>\n",
       "<table border=\"1\" class=\"dataframe\">\n",
       "  <thead>\n",
       "    <tr style=\"text-align: right;\">\n",
       "      <th></th>\n",
       "      <th>id</th>\n",
       "      <th>imdb_id</th>\n",
       "      <th>popularity</th>\n",
       "      <th>budget</th>\n",
       "      <th>revenue</th>\n",
       "      <th>original_title</th>\n",
       "      <th>cast</th>\n",
       "      <th>homepage</th>\n",
       "      <th>director</th>\n",
       "      <th>tagline</th>\n",
       "      <th>keywords</th>\n",
       "      <th>overview</th>\n",
       "      <th>runtime</th>\n",
       "      <th>genres</th>\n",
       "      <th>production_companies</th>\n",
       "      <th>release_date</th>\n",
       "      <th>vote_count</th>\n",
       "      <th>vote_average</th>\n",
       "      <th>release_year</th>\n",
       "      <th>budget_adj</th>\n",
       "      <th>revenue_adj</th>\n",
       "    </tr>\n",
       "  </thead>\n",
       "  <tbody>\n",
       "    <tr>\n",
       "      <th>1386</th>\n",
       "      <td>19995</td>\n",
       "      <td>tt0499549</td>\n",
       "      <td>9.432768</td>\n",
       "      <td>237000000</td>\n",
       "      <td>2781505847</td>\n",
       "      <td>Avatar</td>\n",
       "      <td>Sam Worthington|Zoe Saldana|Sigourney Weaver|S...</td>\n",
       "      <td>http://www.avatarmovie.com/</td>\n",
       "      <td>James Cameron</td>\n",
       "      <td>Enter the World of Pandora.</td>\n",
       "      <td>culture clash|future|space war|space colony|so...</td>\n",
       "      <td>In the 22nd century, a paraplegic Marine is di...</td>\n",
       "      <td>162</td>\n",
       "      <td>Action|Adventure|Fantasy|Science Fiction</td>\n",
       "      <td>Ingenious Film Partners|Twentieth Century Fox ...</td>\n",
       "      <td>12/10/09</td>\n",
       "      <td>8458</td>\n",
       "      <td>7.1</td>\n",
       "      <td>2009</td>\n",
       "      <td>2.408869e+08</td>\n",
       "      <td>2.827124e+09</td>\n",
       "    </tr>\n",
       "  </tbody>\n",
       "</table>\n",
       "</div>"
      ],
      "text/plain": [
       "         id    imdb_id  popularity     budget     revenue original_title  \\\n",
       "1386  19995  tt0499549    9.432768  237000000  2781505847         Avatar   \n",
       "\n",
       "                                                   cast  \\\n",
       "1386  Sam Worthington|Zoe Saldana|Sigourney Weaver|S...   \n",
       "\n",
       "                         homepage       director                      tagline  \\\n",
       "1386  http://www.avatarmovie.com/  James Cameron  Enter the World of Pandora.   \n",
       "\n",
       "                                               keywords  \\\n",
       "1386  culture clash|future|space war|space colony|so...   \n",
       "\n",
       "                                               overview  runtime  \\\n",
       "1386  In the 22nd century, a paraplegic Marine is di...      162   \n",
       "\n",
       "                                        genres  \\\n",
       "1386  Action|Adventure|Fantasy|Science Fiction   \n",
       "\n",
       "                                   production_companies release_date  \\\n",
       "1386  Ingenious Film Partners|Twentieth Century Fox ...     12/10/09   \n",
       "\n",
       "      vote_count  vote_average  release_year    budget_adj   revenue_adj  \n",
       "1386        8458           7.1          2009  2.408869e+08  2.827124e+09  "
      ]
     },
     "execution_count": 11,
     "metadata": {},
     "output_type": "execute_result"
    }
   ],
   "source": [
    "# To find which movie earned the most revenue\n",
    "df[df['revenue_adj'] == df['revenue_adj'].max()]"
   ]
  },
  {
   "cell_type": "code",
   "execution_count": 12,
   "metadata": {},
   "outputs": [
    {
     "data": {
      "text/html": [
       "<div>\n",
       "<style scoped>\n",
       "    .dataframe tbody tr th:only-of-type {\n",
       "        vertical-align: middle;\n",
       "    }\n",
       "\n",
       "    .dataframe tbody tr th {\n",
       "        vertical-align: top;\n",
       "    }\n",
       "\n",
       "    .dataframe thead th {\n",
       "        text-align: right;\n",
       "    }\n",
       "</style>\n",
       "<table border=\"1\" class=\"dataframe\">\n",
       "  <thead>\n",
       "    <tr style=\"text-align: right;\">\n",
       "      <th></th>\n",
       "      <th>id</th>\n",
       "      <th>imdb_id</th>\n",
       "      <th>popularity</th>\n",
       "      <th>budget</th>\n",
       "      <th>revenue</th>\n",
       "      <th>original_title</th>\n",
       "      <th>cast</th>\n",
       "      <th>homepage</th>\n",
       "      <th>director</th>\n",
       "      <th>tagline</th>\n",
       "      <th>keywords</th>\n",
       "      <th>overview</th>\n",
       "      <th>runtime</th>\n",
       "      <th>genres</th>\n",
       "      <th>production_companies</th>\n",
       "      <th>release_date</th>\n",
       "      <th>vote_count</th>\n",
       "      <th>vote_average</th>\n",
       "      <th>release_year</th>\n",
       "      <th>budget_adj</th>\n",
       "      <th>revenue_adj</th>\n",
       "    </tr>\n",
       "  </thead>\n",
       "  <tbody>\n",
       "    <tr>\n",
       "      <th>3375</th>\n",
       "      <td>1865</td>\n",
       "      <td>tt1298650</td>\n",
       "      <td>4.95513</td>\n",
       "      <td>380000000</td>\n",
       "      <td>1021683000</td>\n",
       "      <td>Pirates of the Caribbean: On Stranger Tides</td>\n",
       "      <td>Johnny Depp|PenÃ©lope Cruz|Geoffrey Rush|Ian M...</td>\n",
       "      <td>http://disney.go.com/pirates/index-on-stranger...</td>\n",
       "      <td>Rob Marshall</td>\n",
       "      <td>Live Forever Or Die Trying.</td>\n",
       "      <td>sea|captain|mutiny|sword|prime minister</td>\n",
       "      <td>Captain Jack Sparrow crosses paths with a woma...</td>\n",
       "      <td>136</td>\n",
       "      <td>Adventure|Action|Fantasy</td>\n",
       "      <td>Walt Disney Pictures|Jerry Bruckheimer Films|M...</td>\n",
       "      <td>5/11/11</td>\n",
       "      <td>3180</td>\n",
       "      <td>6.3</td>\n",
       "      <td>2011</td>\n",
       "      <td>3.683713e+08</td>\n",
       "      <td>9.904175e+08</td>\n",
       "    </tr>\n",
       "  </tbody>\n",
       "</table>\n",
       "</div>"
      ],
      "text/plain": [
       "        id    imdb_id  popularity     budget     revenue  \\\n",
       "3375  1865  tt1298650     4.95513  380000000  1021683000   \n",
       "\n",
       "                                   original_title  \\\n",
       "3375  Pirates of the Caribbean: On Stranger Tides   \n",
       "\n",
       "                                                   cast  \\\n",
       "3375  Johnny Depp|PenÃ©lope Cruz|Geoffrey Rush|Ian M...   \n",
       "\n",
       "                                               homepage      director  \\\n",
       "3375  http://disney.go.com/pirates/index-on-stranger...  Rob Marshall   \n",
       "\n",
       "                          tagline                                 keywords  \\\n",
       "3375  Live Forever Or Die Trying.  sea|captain|mutiny|sword|prime minister   \n",
       "\n",
       "                                               overview  runtime  \\\n",
       "3375  Captain Jack Sparrow crosses paths with a woma...      136   \n",
       "\n",
       "                        genres  \\\n",
       "3375  Adventure|Action|Fantasy   \n",
       "\n",
       "                                   production_companies release_date  \\\n",
       "3375  Walt Disney Pictures|Jerry Bruckheimer Films|M...      5/11/11   \n",
       "\n",
       "      vote_count  vote_average  release_year    budget_adj   revenue_adj  \n",
       "3375        3180           6.3          2011  3.683713e+08  9.904175e+08  "
      ]
     },
     "execution_count": 12,
     "metadata": {},
     "output_type": "execute_result"
    }
   ],
   "source": [
    "# Online search reveals that budget of 'The Warrior's Way' is 42.5 million, not 425 million.\n",
    "# Thus, to correct it:\n",
    "df.loc[df['id'] == 46528, 'budget_adj'] = 42500000\n",
    "df[df['budget_adj'] == df['budget_adj'].max()]"
   ]
  },
  {
   "cell_type": "markdown",
   "metadata": {},
   "source": [
    "## 2.3. Missing values\n",
    "\n",
    "In this part, I first checked the number of valid records, that is, records having values for all the variables of interest. It turned out only 3854 records are valid. Although it leaves only about 35% of the whole dataset, I just dropped invalid records without any further effort."
   ]
  },
  {
   "cell_type": "code",
   "execution_count": 13,
   "metadata": {},
   "outputs": [
    {
     "data": {
      "text/plain": [
       "23"
      ]
     },
     "execution_count": 13,
     "metadata": {},
     "output_type": "execute_result"
    }
   ],
   "source": [
    "df['genres'].isnull().sum()"
   ]
  },
  {
   "cell_type": "code",
   "execution_count": 14,
   "metadata": {},
   "outputs": [
    {
     "data": {
      "text/plain": [
       "(5696, 6016)"
      ]
     },
     "execution_count": 14,
     "metadata": {},
     "output_type": "execute_result"
    }
   ],
   "source": [
    "len(df[df['budget_adj']==0]), len(df[df['revenue_adj']==0])"
   ]
  },
  {
   "cell_type": "code",
   "execution_count": 15,
   "metadata": {},
   "outputs": [
    {
     "data": {
      "text/plain": [
       "3854"
      ]
     },
     "execution_count": 15,
     "metadata": {},
     "output_type": "execute_result"
    }
   ],
   "source": [
    "# Number of valid records\n",
    "len(df[(df['budget_adj']!=0) & (df['revenue_adj']!=0) & \n",
    "       df['genres'].notnull()])"
   ]
  },
  {
   "cell_type": "code",
   "execution_count": 16,
   "metadata": {},
   "outputs": [],
   "source": [
    "df.dropna(subset = ['genres'], inplace = True)"
   ]
  },
  {
   "cell_type": "code",
   "execution_count": 17,
   "metadata": {},
   "outputs": [],
   "source": [
    "df['budget_adj'].replace({0: np.nan}, inplace=True)\n",
    "df['revenue_adj'].replace({0: np.nan}, inplace=True)\n",
    "df.dropna(subset = ['budget_adj', 'revenue_adj'], inplace = True)"
   ]
  },
  {
   "cell_type": "markdown",
   "metadata": {},
   "source": [
    "## 2.4. Calculation of ROI"
   ]
  },
  {
   "cell_type": "code",
   "execution_count": 18,
   "metadata": {},
   "outputs": [],
   "source": [
    "df['ROI'] = df.apply(lambda x: (x.revenue_adj-x.budget_adj)/x.budget_adj, axis=1)"
   ]
  },
  {
   "cell_type": "markdown",
   "metadata": {},
   "source": [
    "## 2.5. Transformaton of data type\n",
    "String values for the 'genres' column are converted to the list type. The other columns are considered set suitably."
   ]
  },
  {
   "cell_type": "code",
   "execution_count": 19,
   "metadata": {},
   "outputs": [],
   "source": [
    "# Convert 'genres' values from strings to lists, which may make later work easier.\n",
    "df.loc[:, 'genres'] = df['genres'].str.strip().str.split(\"|\")"
   ]
  },
  {
   "cell_type": "code",
   "execution_count": 20,
   "metadata": {},
   "outputs": [
    {
     "data": {
      "text/plain": [
       "list"
      ]
     },
     "execution_count": 20,
     "metadata": {},
     "output_type": "execute_result"
    }
   ],
   "source": [
    "type(df['genres'].iloc[0])"
   ]
  },
  {
   "cell_type": "markdown",
   "metadata": {},
   "source": [
    "## 2.6. Unused columns"
   ]
  },
  {
   "cell_type": "code",
   "execution_count": 21,
   "metadata": {},
   "outputs": [
    {
     "data": {
      "text/plain": [
       "(3854, 10)"
      ]
     },
     "execution_count": 21,
     "metadata": {},
     "output_type": "execute_result"
    }
   ],
   "source": [
    "df.drop(columns = ['imdb_id', 'popularity',\n",
    "                   'cast', 'homepage', 'director', 'tagline', \n",
    "                   'keywords', 'overview', 'runtime', 'production_companies', \n",
    "                  'release_date', 'vote_count'], \n",
    "        inplace = True)\n",
    "df.shape"
   ]
  },
  {
   "cell_type": "markdown",
   "metadata": {},
   "source": [
    "## 2.7. Outliers\n",
    "\n",
    "I will inspect each variable with visualization to identify records to remove."
   ]
  },
  {
   "cell_type": "markdown",
   "metadata": {},
   "source": [
    "### 2.7.1. Budget"
   ]
  },
  {
   "cell_type": "code",
   "execution_count": 22,
   "metadata": {},
   "outputs": [],
   "source": [
    "plt.style.use('seaborn')\n",
    "plt.rcParams.update({'axes.titlesize': 'x-large'})"
   ]
  },
  {
   "cell_type": "code",
   "execution_count": 23,
   "metadata": {},
   "outputs": [
    {
     "data": {
      "text/plain": [
       "[Text(0.5, 0, 'Budget'),\n",
       " Text(0, 0.5, 'Frequency'),\n",
       " Text(0.5, 1.0, 'Histogram of Budget')]"
      ]
     },
     "execution_count": 23,
     "metadata": {},
     "output_type": "execute_result"
    },
    {
     "data": {
      "image/png": "[encoded data removed]",
      "text/plain": [
       "<Figure size 576x396 with 1 Axes>"
      ]
     },
     "metadata": {},
     "output_type": "display_data"
    }
   ],
   "source": [
    "# This function was copied from 'The Lifecycle of a Plot', \n",
    "# https://matplotlib.org/stable/tutorials/introductory/lifecycle.html\n",
    "def currency(x, pos):\n",
    "    \"\"\"The two args are the value and tick position\"\"\"\n",
    "    if x >= 1e6:\n",
    "        s = '${:1.1f}M'.format(x*1e-6)\n",
    "    else:\n",
    "        s = '${:1.0f}K'.format(x*1e-3)\n",
    "    return s\n",
    "\n",
    "ax = plt.axes()\n",
    "\n",
    "n, bins, patches = plt.hist(df['budget_adj'])\n",
    "ax.set_xticks(bins)\n",
    "ax.xaxis.set_major_formatter(currency)\n",
    "\n",
    "labels = ax.get_xticklabels()\n",
    "plt.setp(labels, rotation=45, horizontalalignment='right')\n",
    "ax.set(xlabel='Budget', ylabel='Frequency',\n",
    "       title='Histogram of Budget')"
   ]
  },
  {
   "cell_type": "code",
   "execution_count": 24,
   "metadata": {},
   "outputs": [
    {
     "data": {
      "image/png": "[encoded data removed]",
      "text/plain": [
       "<Figure size 576x396 with 1 Axes>"
      ]
     },
     "metadata": {},
     "output_type": "display_data"
    }
   ],
   "source": [
    "ax = plt.axes()\n",
    "plt.boxplot(df['budget_adj'])\n",
    "ax.set(ylabel='Budget',\n",
    "       title='Boxplot of Budget')\n",
    "\n",
    "ax.yaxis.set_major_formatter(currency)\n",
    "ax.set_xticks([]);"
   ]
  },
  {
   "cell_type": "code",
   "execution_count": 25,
   "metadata": {},
   "outputs": [
    {
     "data": {
      "text/html": [
       "<div>\n",
       "<style scoped>\n",
       "    .dataframe tbody tr th:only-of-type {\n",
       "        vertical-align: middle;\n",
       "    }\n",
       "\n",
       "    .dataframe tbody tr th {\n",
       "        vertical-align: top;\n",
       "    }\n",
       "\n",
       "    .dataframe thead th {\n",
       "        text-align: right;\n",
       "    }\n",
       "</style>\n",
       "<table border=\"1\" class=\"dataframe\">\n",
       "  <thead>\n",
       "    <tr style=\"text-align: right;\">\n",
       "      <th></th>\n",
       "      <th>index</th>\n",
       "      <th>budget_adj</th>\n",
       "      <th>diff</th>\n",
       "      <th>ratio</th>\n",
       "    </tr>\n",
       "  </thead>\n",
       "  <tbody>\n",
       "    <tr>\n",
       "      <th>0</th>\n",
       "      <td>3375</td>\n",
       "      <td>3.683713e+08</td>\n",
       "      <td>5.287068e+07</td>\n",
       "      <td>0.143526</td>\n",
       "    </tr>\n",
       "    <tr>\n",
       "      <th>1</th>\n",
       "      <td>7387</td>\n",
       "      <td>3.155006e+08</td>\n",
       "      <td>2.344990e+07</td>\n",
       "      <td>0.074326</td>\n",
       "    </tr>\n",
       "    <tr>\n",
       "      <th>2</th>\n",
       "      <td>6570</td>\n",
       "      <td>2.920507e+08</td>\n",
       "      <td>2.035861e+07</td>\n",
       "      <td>0.069709</td>\n",
       "    </tr>\n",
       "    <tr>\n",
       "      <th>3</th>\n",
       "      <td>5231</td>\n",
       "      <td>2.716921e+08</td>\n",
       "      <td>3.615699e+05</td>\n",
       "      <td>0.001331</td>\n",
       "    </tr>\n",
       "    <tr>\n",
       "      <th>4</th>\n",
       "      <td>7394</td>\n",
       "      <td>2.713305e+08</td>\n",
       "      <td>1.133049e+07</td>\n",
       "      <td>0.041759</td>\n",
       "    </tr>\n",
       "    <tr>\n",
       "      <th>...</th>\n",
       "      <td>...</td>\n",
       "      <td>...</td>\n",
       "      <td>...</td>\n",
       "      <td>...</td>\n",
       "    </tr>\n",
       "    <tr>\n",
       "      <th>3849</th>\n",
       "      <td>10050</td>\n",
       "      <td>5.006696e+00</td>\n",
       "      <td>4.874108e-01</td>\n",
       "      <td>0.097352</td>\n",
       "    </tr>\n",
       "    <tr>\n",
       "      <th>3850</th>\n",
       "      <td>8944</td>\n",
       "      <td>4.519285e+00</td>\n",
       "      <td>1.519285e+00</td>\n",
       "      <td>0.336178</td>\n",
       "    </tr>\n",
       "    <tr>\n",
       "      <th>3851</th>\n",
       "      <td>2398</td>\n",
       "      <td>3.000000e+00</td>\n",
       "      <td>1.690947e+00</td>\n",
       "      <td>0.563649</td>\n",
       "    </tr>\n",
       "    <tr>\n",
       "      <th>3852</th>\n",
       "      <td>2618</td>\n",
       "      <td>1.309053e+00</td>\n",
       "      <td>3.396548e-01</td>\n",
       "      <td>0.259466</td>\n",
       "    </tr>\n",
       "    <tr>\n",
       "      <th>3853</th>\n",
       "      <td>3581</td>\n",
       "      <td>9.693980e-01</td>\n",
       "      <td>NaN</td>\n",
       "      <td>NaN</td>\n",
       "    </tr>\n",
       "  </tbody>\n",
       "</table>\n",
       "<p>3854 rows × 4 columns</p>\n",
       "</div>"
      ],
      "text/plain": [
       "      index    budget_adj          diff     ratio\n",
       "0      3375  3.683713e+08  5.287068e+07  0.143526\n",
       "1      7387  3.155006e+08  2.344990e+07  0.074326\n",
       "2      6570  2.920507e+08  2.035861e+07  0.069709\n",
       "3      5231  2.716921e+08  3.615699e+05  0.001331\n",
       "4      7394  2.713305e+08  1.133049e+07  0.041759\n",
       "...     ...           ...           ...       ...\n",
       "3849  10050  5.006696e+00  4.874108e-01  0.097352\n",
       "3850   8944  4.519285e+00  1.519285e+00  0.336178\n",
       "3851   2398  3.000000e+00  1.690947e+00  0.563649\n",
       "3852   2618  1.309053e+00  3.396548e-01  0.259466\n",
       "3853   3581  9.693980e-01           NaN       NaN\n",
       "\n",
       "[3854 rows x 4 columns]"
      ]
     },
     "execution_count": 25,
     "metadata": {},
     "output_type": "execute_result"
    }
   ],
   "source": [
    "temp = df['budget_adj'].sort_values(ascending = False).reset_index()\n",
    "temp['diff'] = temp['budget_adj'].diff(periods = -1)\n",
    "temp['ratio'] = temp['diff'] / temp['budget_adj']\n",
    "temp"
   ]
  },
  {
   "cell_type": "code",
   "execution_count": 26,
   "metadata": {},
   "outputs": [
    {
     "data": {
      "text/html": [
       "<div>\n",
       "<style scoped>\n",
       "    .dataframe tbody tr th:only-of-type {\n",
       "        vertical-align: middle;\n",
       "    }\n",
       "\n",
       "    .dataframe tbody tr th {\n",
       "        vertical-align: top;\n",
       "    }\n",
       "\n",
       "    .dataframe thead th {\n",
       "        text-align: right;\n",
       "    }\n",
       "</style>\n",
       "<table border=\"1\" class=\"dataframe\">\n",
       "  <thead>\n",
       "    <tr style=\"text-align: right;\">\n",
       "      <th></th>\n",
       "      <th>index</th>\n",
       "      <th>budget_adj</th>\n",
       "      <th>diff</th>\n",
       "      <th>ratio</th>\n",
       "    </tr>\n",
       "  </thead>\n",
       "  <tbody>\n",
       "    <tr>\n",
       "      <th>0</th>\n",
       "      <td>3375</td>\n",
       "      <td>3.683713e+08</td>\n",
       "      <td>5.287068e+07</td>\n",
       "      <td>0.143526</td>\n",
       "    </tr>\n",
       "    <tr>\n",
       "      <th>1</th>\n",
       "      <td>7387</td>\n",
       "      <td>3.155006e+08</td>\n",
       "      <td>2.344990e+07</td>\n",
       "      <td>0.074326</td>\n",
       "    </tr>\n",
       "    <tr>\n",
       "      <th>2</th>\n",
       "      <td>6570</td>\n",
       "      <td>2.920507e+08</td>\n",
       "      <td>2.035861e+07</td>\n",
       "      <td>0.069709</td>\n",
       "    </tr>\n",
       "    <tr>\n",
       "      <th>3</th>\n",
       "      <td>5231</td>\n",
       "      <td>2.716921e+08</td>\n",
       "      <td>3.615699e+05</td>\n",
       "      <td>0.001331</td>\n",
       "    </tr>\n",
       "    <tr>\n",
       "      <th>4</th>\n",
       "      <td>7394</td>\n",
       "      <td>2.713305e+08</td>\n",
       "      <td>1.133049e+07</td>\n",
       "      <td>0.041759</td>\n",
       "    </tr>\n",
       "    <tr>\n",
       "      <th>...</th>\n",
       "      <td>...</td>\n",
       "      <td>...</td>\n",
       "      <td>...</td>\n",
       "      <td>...</td>\n",
       "    </tr>\n",
       "    <tr>\n",
       "      <th>3849</th>\n",
       "      <td>10050</td>\n",
       "      <td>5.006696e+00</td>\n",
       "      <td>4.874108e-01</td>\n",
       "      <td>0.097352</td>\n",
       "    </tr>\n",
       "    <tr>\n",
       "      <th>3850</th>\n",
       "      <td>8944</td>\n",
       "      <td>4.519285e+00</td>\n",
       "      <td>1.519285e+00</td>\n",
       "      <td>0.336178</td>\n",
       "    </tr>\n",
       "    <tr>\n",
       "      <th>3851</th>\n",
       "      <td>2398</td>\n",
       "      <td>3.000000e+00</td>\n",
       "      <td>1.690947e+00</td>\n",
       "      <td>0.563649</td>\n",
       "    </tr>\n",
       "    <tr>\n",
       "      <th>3852</th>\n",
       "      <td>2618</td>\n",
       "      <td>1.309053e+00</td>\n",
       "      <td>3.396548e-01</td>\n",
       "      <td>0.259466</td>\n",
       "    </tr>\n",
       "    <tr>\n",
       "      <th>3853</th>\n",
       "      <td>3581</td>\n",
       "      <td>9.693980e-01</td>\n",
       "      <td>NaN</td>\n",
       "      <td>NaN</td>\n",
       "    </tr>\n",
       "  </tbody>\n",
       "</table>\n",
       "<p>3854 rows × 4 columns</p>\n",
       "</div>"
      ],
      "text/plain": [
       "      index    budget_adj          diff     ratio\n",
       "0      3375  3.683713e+08  5.287068e+07  0.143526\n",
       "1      7387  3.155006e+08  2.344990e+07  0.074326\n",
       "2      6570  2.920507e+08  2.035861e+07  0.069709\n",
       "3      5231  2.716921e+08  3.615699e+05  0.001331\n",
       "4      7394  2.713305e+08  1.133049e+07  0.041759\n",
       "...     ...           ...           ...       ...\n",
       "3849  10050  5.006696e+00  4.874108e-01  0.097352\n",
       "3850   8944  4.519285e+00  1.519285e+00  0.336178\n",
       "3851   2398  3.000000e+00  1.690947e+00  0.563649\n",
       "3852   2618  1.309053e+00  3.396548e-01  0.259466\n",
       "3853   3581  9.693980e-01           NaN       NaN\n",
       "\n",
       "[3854 rows x 4 columns]"
      ]
     },
     "execution_count": 26,
     "metadata": {},
     "output_type": "execute_result"
    }
   ],
   "source": [
    "temp"
   ]
  },
  {
   "cell_type": "markdown",
   "metadata": {},
   "source": [
    "The top three records seem at a distance from their nearest smaller record. But, I do not consider that the distances are far enough, considering the ratios of differences that are 15% at most. I am going to keep them. \n",
    "\n",
    "Next, I will look into the low budget records. "
   ]
  },
  {
   "cell_type": "code",
   "execution_count": 27,
   "metadata": {},
   "outputs": [
    {
     "data": {
      "text/html": [
       "<div>\n",
       "<style scoped>\n",
       "    .dataframe tbody tr th:only-of-type {\n",
       "        vertical-align: middle;\n",
       "    }\n",
       "\n",
       "    .dataframe tbody tr th {\n",
       "        vertical-align: top;\n",
       "    }\n",
       "\n",
       "    .dataframe thead th {\n",
       "        text-align: right;\n",
       "    }\n",
       "</style>\n",
       "<table border=\"1\" class=\"dataframe\">\n",
       "  <thead>\n",
       "    <tr style=\"text-align: right;\">\n",
       "      <th></th>\n",
       "      <th>id</th>\n",
       "      <th>budget</th>\n",
       "      <th>revenue</th>\n",
       "      <th>original_title</th>\n",
       "      <th>genres</th>\n",
       "      <th>vote_average</th>\n",
       "      <th>release_year</th>\n",
       "      <th>budget_adj</th>\n",
       "      <th>revenue_adj</th>\n",
       "      <th>ROI</th>\n",
       "    </tr>\n",
       "  </thead>\n",
       "  <tbody>\n",
       "    <tr>\n",
       "      <th>3581</th>\n",
       "      <td>59296</td>\n",
       "      <td>1</td>\n",
       "      <td>1378</td>\n",
       "      <td>Love, Wedding, Marriage</td>\n",
       "      <td>[Comedy, Romance]</td>\n",
       "      <td>5.3</td>\n",
       "      <td>2011</td>\n",
       "      <td>0.969398</td>\n",
       "      <td>1335.830503</td>\n",
       "      <td>1377.000000</td>\n",
       "    </tr>\n",
       "    <tr>\n",
       "      <th>2618</th>\n",
       "      <td>39964</td>\n",
       "      <td>1</td>\n",
       "      <td>100</td>\n",
       "      <td>Lost &amp; Found</td>\n",
       "      <td>[Comedy, Romance]</td>\n",
       "      <td>4.8</td>\n",
       "      <td>1999</td>\n",
       "      <td>1.309053</td>\n",
       "      <td>130.905285</td>\n",
       "      <td>99.000000</td>\n",
       "    </tr>\n",
       "    <tr>\n",
       "      <th>2398</th>\n",
       "      <td>39356</td>\n",
       "      <td>3</td>\n",
       "      <td>43</td>\n",
       "      <td>Boy</td>\n",
       "      <td>[Drama, Comedy]</td>\n",
       "      <td>7.3</td>\n",
       "      <td>2010</td>\n",
       "      <td>3.000000</td>\n",
       "      <td>43.000000</td>\n",
       "      <td>13.333333</td>\n",
       "    </tr>\n",
       "    <tr>\n",
       "      <th>8944</th>\n",
       "      <td>14373</td>\n",
       "      <td>2</td>\n",
       "      <td>16</td>\n",
       "      <td>Death Wish 2</td>\n",
       "      <td>[Action, Crime, Thriller]</td>\n",
       "      <td>5.6</td>\n",
       "      <td>1982</td>\n",
       "      <td>4.519285</td>\n",
       "      <td>36.154278</td>\n",
       "      <td>7.000000</td>\n",
       "    </tr>\n",
       "    <tr>\n",
       "      <th>10050</th>\n",
       "      <td>20701</td>\n",
       "      <td>3</td>\n",
       "      <td>16</td>\n",
       "      <td>Tales from the Darkside: The Movie</td>\n",
       "      <td>[Fantasy, Horror, Comedy]</td>\n",
       "      <td>5.8</td>\n",
       "      <td>1990</td>\n",
       "      <td>5.006696</td>\n",
       "      <td>26.702377</td>\n",
       "      <td>4.333333</td>\n",
       "    </tr>\n",
       "    <tr>\n",
       "      <th>8235</th>\n",
       "      <td>25066</td>\n",
       "      <td>6</td>\n",
       "      <td>11</td>\n",
       "      <td>Tales from the Hood</td>\n",
       "      <td>[Horror, Thriller]</td>\n",
       "      <td>5.1</td>\n",
       "      <td>1995</td>\n",
       "      <td>8.585801</td>\n",
       "      <td>15.740636</td>\n",
       "      <td>0.833333</td>\n",
       "    </tr>\n",
       "    <tr>\n",
       "      <th>5852</th>\n",
       "      <td>217708</td>\n",
       "      <td>10</td>\n",
       "      <td>11</td>\n",
       "      <td>Hross Ã­ oss</td>\n",
       "      <td>[Drama, Romance, Comedy]</td>\n",
       "      <td>6.5</td>\n",
       "      <td>2013</td>\n",
       "      <td>9.360334</td>\n",
       "      <td>10.296367</td>\n",
       "      <td>0.100000</td>\n",
       "    </tr>\n",
       "    <tr>\n",
       "      <th>8125</th>\n",
       "      <td>11980</td>\n",
       "      <td>8</td>\n",
       "      <td>16</td>\n",
       "      <td>The Prophecy</td>\n",
       "      <td>[Fantasy, Horror, Thriller]</td>\n",
       "      <td>5.5</td>\n",
       "      <td>1995</td>\n",
       "      <td>11.447735</td>\n",
       "      <td>22.895470</td>\n",
       "      <td>1.000000</td>\n",
       "    </tr>\n",
       "    <tr>\n",
       "      <th>5162</th>\n",
       "      <td>24914</td>\n",
       "      <td>10</td>\n",
       "      <td>5</td>\n",
       "      <td>Kid's Story</td>\n",
       "      <td>[Science Fiction, Animation]</td>\n",
       "      <td>6.8</td>\n",
       "      <td>2003</td>\n",
       "      <td>11.853526</td>\n",
       "      <td>5.926763</td>\n",
       "      <td>-0.500000</td>\n",
       "    </tr>\n",
       "    <tr>\n",
       "      <th>10297</th>\n",
       "      <td>9644</td>\n",
       "      <td>8</td>\n",
       "      <td>27</td>\n",
       "      <td>National Lampoon's Loaded Weapon 1</td>\n",
       "      <td>[Comedy]</td>\n",
       "      <td>5.5</td>\n",
       "      <td>1993</td>\n",
       "      <td>12.075760</td>\n",
       "      <td>40.755689</td>\n",
       "      <td>2.375000</td>\n",
       "    </tr>\n",
       "  </tbody>\n",
       "</table>\n",
       "</div>"
      ],
      "text/plain": [
       "           id  budget  revenue                      original_title  \\\n",
       "3581    59296       1     1378             Love, Wedding, Marriage   \n",
       "2618    39964       1      100                        Lost & Found   \n",
       "2398    39356       3       43                                 Boy   \n",
       "8944    14373       2       16                        Death Wish 2   \n",
       "10050   20701       3       16  Tales from the Darkside: The Movie   \n",
       "8235    25066       6       11                 Tales from the Hood   \n",
       "5852   217708      10       11                        Hross Ã­ oss   \n",
       "8125    11980       8       16                        The Prophecy   \n",
       "5162    24914      10        5                         Kid's Story   \n",
       "10297    9644       8       27  National Lampoon's Loaded Weapon 1   \n",
       "\n",
       "                             genres  vote_average  release_year  budget_adj  \\\n",
       "3581              [Comedy, Romance]           5.3          2011    0.969398   \n",
       "2618              [Comedy, Romance]           4.8          1999    1.309053   \n",
       "2398                [Drama, Comedy]           7.3          2010    3.000000   \n",
       "8944      [Action, Crime, Thriller]           5.6          1982    4.519285   \n",
       "10050     [Fantasy, Horror, Comedy]           5.8          1990    5.006696   \n",
       "8235             [Horror, Thriller]           5.1          1995    8.585801   \n",
       "5852       [Drama, Romance, Comedy]           6.5          2013    9.360334   \n",
       "8125    [Fantasy, Horror, Thriller]           5.5          1995   11.447735   \n",
       "5162   [Science Fiction, Animation]           6.8          2003   11.853526   \n",
       "10297                      [Comedy]           5.5          1993   12.075760   \n",
       "\n",
       "       revenue_adj          ROI  \n",
       "3581   1335.830503  1377.000000  \n",
       "2618    130.905285    99.000000  \n",
       "2398     43.000000    13.333333  \n",
       "8944     36.154278     7.000000  \n",
       "10050    26.702377     4.333333  \n",
       "8235     15.740636     0.833333  \n",
       "5852     10.296367     0.100000  \n",
       "8125     22.895470     1.000000  \n",
       "5162      5.926763    -0.500000  \n",
       "10297    40.755689     2.375000  "
      ]
     },
     "execution_count": 27,
     "metadata": {},
     "output_type": "execute_result"
    }
   ],
   "source": [
    "df.sort_values(by = 'budget_adj').head(10)"
   ]
  },
  {
   "cell_type": "markdown",
   "metadata": {},
   "source": [
    "Given the above showing existence of many movies with extremely low budget, I googled to get a sense of how much low is reasonably low. Finally, I found that $7000 (budget of 'Primer'(2004)) may be the lowest (https://en.wikipedia.org/wiki/Low-budget_film)."
   ]
  },
  {
   "cell_type": "code",
   "execution_count": 28,
   "metadata": {},
   "outputs": [
    {
     "data": {
      "text/html": [
       "<div>\n",
       "<style scoped>\n",
       "    .dataframe tbody tr th:only-of-type {\n",
       "        vertical-align: middle;\n",
       "    }\n",
       "\n",
       "    .dataframe tbody tr th {\n",
       "        vertical-align: top;\n",
       "    }\n",
       "\n",
       "    .dataframe thead th {\n",
       "        text-align: right;\n",
       "    }\n",
       "</style>\n",
       "<table border=\"1\" class=\"dataframe\">\n",
       "  <thead>\n",
       "    <tr style=\"text-align: right;\">\n",
       "      <th></th>\n",
       "      <th>id</th>\n",
       "      <th>budget</th>\n",
       "      <th>revenue</th>\n",
       "      <th>original_title</th>\n",
       "      <th>genres</th>\n",
       "      <th>vote_average</th>\n",
       "      <th>release_year</th>\n",
       "      <th>budget_adj</th>\n",
       "      <th>revenue_adj</th>\n",
       "      <th>ROI</th>\n",
       "    </tr>\n",
       "  </thead>\n",
       "  <tbody>\n",
       "    <tr>\n",
       "      <th>3581</th>\n",
       "      <td>59296</td>\n",
       "      <td>1</td>\n",
       "      <td>1378</td>\n",
       "      <td>Love, Wedding, Marriage</td>\n",
       "      <td>[Comedy, Romance]</td>\n",
       "      <td>5.3</td>\n",
       "      <td>2011</td>\n",
       "      <td>0.969398</td>\n",
       "      <td>1.335831e+03</td>\n",
       "      <td>1.377000e+03</td>\n",
       "    </tr>\n",
       "    <tr>\n",
       "      <th>2618</th>\n",
       "      <td>39964</td>\n",
       "      <td>1</td>\n",
       "      <td>100</td>\n",
       "      <td>Lost &amp; Found</td>\n",
       "      <td>[Comedy, Romance]</td>\n",
       "      <td>4.8</td>\n",
       "      <td>1999</td>\n",
       "      <td>1.309053</td>\n",
       "      <td>1.309053e+02</td>\n",
       "      <td>9.900000e+01</td>\n",
       "    </tr>\n",
       "    <tr>\n",
       "      <th>2398</th>\n",
       "      <td>39356</td>\n",
       "      <td>3</td>\n",
       "      <td>43</td>\n",
       "      <td>Boy</td>\n",
       "      <td>[Drama, Comedy]</td>\n",
       "      <td>7.3</td>\n",
       "      <td>2010</td>\n",
       "      <td>3.000000</td>\n",
       "      <td>4.300000e+01</td>\n",
       "      <td>1.333333e+01</td>\n",
       "    </tr>\n",
       "    <tr>\n",
       "      <th>8944</th>\n",
       "      <td>14373</td>\n",
       "      <td>2</td>\n",
       "      <td>16</td>\n",
       "      <td>Death Wish 2</td>\n",
       "      <td>[Action, Crime, Thriller]</td>\n",
       "      <td>5.6</td>\n",
       "      <td>1982</td>\n",
       "      <td>4.519285</td>\n",
       "      <td>3.615428e+01</td>\n",
       "      <td>7.000000e+00</td>\n",
       "    </tr>\n",
       "    <tr>\n",
       "      <th>10050</th>\n",
       "      <td>20701</td>\n",
       "      <td>3</td>\n",
       "      <td>16</td>\n",
       "      <td>Tales from the Darkside: The Movie</td>\n",
       "      <td>[Fantasy, Horror, Comedy]</td>\n",
       "      <td>5.8</td>\n",
       "      <td>1990</td>\n",
       "      <td>5.006696</td>\n",
       "      <td>2.670238e+01</td>\n",
       "      <td>4.333333e+00</td>\n",
       "    </tr>\n",
       "    <tr>\n",
       "      <th>8235</th>\n",
       "      <td>25066</td>\n",
       "      <td>6</td>\n",
       "      <td>11</td>\n",
       "      <td>Tales from the Hood</td>\n",
       "      <td>[Horror, Thriller]</td>\n",
       "      <td>5.1</td>\n",
       "      <td>1995</td>\n",
       "      <td>8.585801</td>\n",
       "      <td>1.574064e+01</td>\n",
       "      <td>8.333333e-01</td>\n",
       "    </tr>\n",
       "    <tr>\n",
       "      <th>5852</th>\n",
       "      <td>217708</td>\n",
       "      <td>10</td>\n",
       "      <td>11</td>\n",
       "      <td>Hross Ã­ oss</td>\n",
       "      <td>[Drama, Romance, Comedy]</td>\n",
       "      <td>6.5</td>\n",
       "      <td>2013</td>\n",
       "      <td>9.360334</td>\n",
       "      <td>1.029637e+01</td>\n",
       "      <td>1.000000e-01</td>\n",
       "    </tr>\n",
       "    <tr>\n",
       "      <th>8125</th>\n",
       "      <td>11980</td>\n",
       "      <td>8</td>\n",
       "      <td>16</td>\n",
       "      <td>The Prophecy</td>\n",
       "      <td>[Fantasy, Horror, Thriller]</td>\n",
       "      <td>5.5</td>\n",
       "      <td>1995</td>\n",
       "      <td>11.447735</td>\n",
       "      <td>2.289547e+01</td>\n",
       "      <td>1.000000e+00</td>\n",
       "    </tr>\n",
       "    <tr>\n",
       "      <th>5162</th>\n",
       "      <td>24914</td>\n",
       "      <td>10</td>\n",
       "      <td>5</td>\n",
       "      <td>Kid's Story</td>\n",
       "      <td>[Science Fiction, Animation]</td>\n",
       "      <td>6.8</td>\n",
       "      <td>2003</td>\n",
       "      <td>11.853526</td>\n",
       "      <td>5.926763e+00</td>\n",
       "      <td>-5.000000e-01</td>\n",
       "    </tr>\n",
       "    <tr>\n",
       "      <th>10297</th>\n",
       "      <td>9644</td>\n",
       "      <td>8</td>\n",
       "      <td>27</td>\n",
       "      <td>National Lampoon's Loaded Weapon 1</td>\n",
       "      <td>[Comedy]</td>\n",
       "      <td>5.5</td>\n",
       "      <td>1993</td>\n",
       "      <td>12.075760</td>\n",
       "      <td>4.075569e+01</td>\n",
       "      <td>2.375000e+00</td>\n",
       "    </tr>\n",
       "    <tr>\n",
       "      <th>5785</th>\n",
       "      <td>212769</td>\n",
       "      <td>15</td>\n",
       "      <td>122</td>\n",
       "      <td>Make Your Move</td>\n",
       "      <td>[Music]</td>\n",
       "      <td>5.9</td>\n",
       "      <td>2013</td>\n",
       "      <td>14.040500</td>\n",
       "      <td>1.141961e+02</td>\n",
       "      <td>7.133333e+00</td>\n",
       "    </tr>\n",
       "    <tr>\n",
       "      <th>3853</th>\n",
       "      <td>62796</td>\n",
       "      <td>20</td>\n",
       "      <td>15</td>\n",
       "      <td>William &amp; Kate</td>\n",
       "      <td>[Drama, Romance]</td>\n",
       "      <td>5.9</td>\n",
       "      <td>2011</td>\n",
       "      <td>19.387961</td>\n",
       "      <td>1.454097e+01</td>\n",
       "      <td>-2.500000e-01</td>\n",
       "    </tr>\n",
       "    <tr>\n",
       "      <th>4675</th>\n",
       "      <td>63574</td>\n",
       "      <td>25</td>\n",
       "      <td>30</td>\n",
       "      <td>Joyful Noise</td>\n",
       "      <td>[Comedy, Music]</td>\n",
       "      <td>6.7</td>\n",
       "      <td>2012</td>\n",
       "      <td>23.743607</td>\n",
       "      <td>2.849233e+01</td>\n",
       "      <td>2.000000e-01</td>\n",
       "    </tr>\n",
       "    <tr>\n",
       "      <th>10236</th>\n",
       "      <td>1499</td>\n",
       "      <td>21</td>\n",
       "      <td>42</td>\n",
       "      <td>Teenage Mutant Ninja Turtles III</td>\n",
       "      <td>[Action, Adventure, Comedy, Family, Fantasy]</td>\n",
       "      <td>5.2</td>\n",
       "      <td>1993</td>\n",
       "      <td>31.698869</td>\n",
       "      <td>6.339774e+01</td>\n",
       "      <td>1.000000e+00</td>\n",
       "    </tr>\n",
       "    <tr>\n",
       "      <th>2519</th>\n",
       "      <td>10397</td>\n",
       "      <td>25</td>\n",
       "      <td>13</td>\n",
       "      <td>Angela's Ashes</td>\n",
       "      <td>[Drama]</td>\n",
       "      <td>7.0</td>\n",
       "      <td>1999</td>\n",
       "      <td>32.726321</td>\n",
       "      <td>1.701769e+01</td>\n",
       "      <td>-4.800000e-01</td>\n",
       "    </tr>\n",
       "    <tr>\n",
       "      <th>10777</th>\n",
       "      <td>28932</td>\n",
       "      <td>11</td>\n",
       "      <td>11</td>\n",
       "      <td>F.I.S.T.</td>\n",
       "      <td>[Drama, Action]</td>\n",
       "      <td>6.7</td>\n",
       "      <td>1978</td>\n",
       "      <td>36.769708</td>\n",
       "      <td>3.676971e+01</td>\n",
       "      <td>0.000000e+00</td>\n",
       "    </tr>\n",
       "    <tr>\n",
       "      <th>9992</th>\n",
       "      <td>1669</td>\n",
       "      <td>30</td>\n",
       "      <td>200</td>\n",
       "      <td>The Hunt for Red October</td>\n",
       "      <td>[Action, Adventure, Thriller]</td>\n",
       "      <td>6.9</td>\n",
       "      <td>1990</td>\n",
       "      <td>50.066956</td>\n",
       "      <td>3.337797e+02</td>\n",
       "      <td>5.666667e+00</td>\n",
       "    </tr>\n",
       "    <tr>\n",
       "      <th>1733</th>\n",
       "      <td>22717</td>\n",
       "      <td>75</td>\n",
       "      <td>134</td>\n",
       "      <td>Wanted</td>\n",
       "      <td>[Action, Comedy, Crime, Thriller]</td>\n",
       "      <td>4.9</td>\n",
       "      <td>2009</td>\n",
       "      <td>76.230033</td>\n",
       "      <td>1.361977e+02</td>\n",
       "      <td>7.866667e-01</td>\n",
       "    </tr>\n",
       "    <tr>\n",
       "      <th>3968</th>\n",
       "      <td>4614</td>\n",
       "      <td>68</td>\n",
       "      <td>193</td>\n",
       "      <td>The Sum of All Fears</td>\n",
       "      <td>[Thriller, Action, Drama]</td>\n",
       "      <td>5.7</td>\n",
       "      <td>2002</td>\n",
       "      <td>82.433775</td>\n",
       "      <td>2.339664e+02</td>\n",
       "      <td>1.838235e+00</td>\n",
       "    </tr>\n",
       "    <tr>\n",
       "      <th>3608</th>\n",
       "      <td>50217</td>\n",
       "      <td>93</td>\n",
       "      <td>2500000</td>\n",
       "      <td>From Prada to Nada</td>\n",
       "      <td>[Comedy, Drama, Romance]</td>\n",
       "      <td>5.2</td>\n",
       "      <td>2011</td>\n",
       "      <td>90.154018</td>\n",
       "      <td>2.423495e+06</td>\n",
       "      <td>2.688072e+04</td>\n",
       "    </tr>\n",
       "    <tr>\n",
       "      <th>10495</th>\n",
       "      <td>8856</td>\n",
       "      <td>113</td>\n",
       "      <td>115103979</td>\n",
       "      <td>The Karate Kid, Part II</td>\n",
       "      <td>[Adventure, Drama, Action, Romance, Family]</td>\n",
       "      <td>5.8</td>\n",
       "      <td>1986</td>\n",
       "      <td>224.802924</td>\n",
       "      <td>2.289886e+08</td>\n",
       "      <td>1.018618e+06</td>\n",
       "    </tr>\n",
       "    <tr>\n",
       "      <th>6179</th>\n",
       "      <td>11338</td>\n",
       "      <td>114</td>\n",
       "      <td>6700000</td>\n",
       "      <td>Into the Night</td>\n",
       "      <td>[Comedy, Drama, Thriller]</td>\n",
       "      <td>6.1</td>\n",
       "      <td>1985</td>\n",
       "      <td>231.096930</td>\n",
       "      <td>1.358201e+07</td>\n",
       "      <td>5.877093e+04</td>\n",
       "    </tr>\n",
       "    <tr>\n",
       "      <th>7813</th>\n",
       "      <td>22887</td>\n",
       "      <td>6000</td>\n",
       "      <td>6000</td>\n",
       "      <td>Loose Change: Final Cut</td>\n",
       "      <td>[Documentary]</td>\n",
       "      <td>5.1</td>\n",
       "      <td>2007</td>\n",
       "      <td>6310.011496</td>\n",
       "      <td>6.310011e+03</td>\n",
       "      <td>0.000000e+00</td>\n",
       "    </tr>\n",
       "    <tr>\n",
       "      <th>3755</th>\n",
       "      <td>79120</td>\n",
       "      <td>8000</td>\n",
       "      <td>469947</td>\n",
       "      <td>Weekend</td>\n",
       "      <td>[Drama, Romance]</td>\n",
       "      <td>7.4</td>\n",
       "      <td>2011</td>\n",
       "      <td>7755.184341</td>\n",
       "      <td>4.555657e+05</td>\n",
       "      <td>5.774337e+01</td>\n",
       "    </tr>\n",
       "    <tr>\n",
       "      <th>7044</th>\n",
       "      <td>14337</td>\n",
       "      <td>7000</td>\n",
       "      <td>424760</td>\n",
       "      <td>Primer</td>\n",
       "      <td>[Science Fiction, Drama, Thriller]</td>\n",
       "      <td>6.9</td>\n",
       "      <td>2004</td>\n",
       "      <td>8081.117799</td>\n",
       "      <td>4.903622e+05</td>\n",
       "      <td>5.968000e+01</td>\n",
       "    </tr>\n",
       "    <tr>\n",
       "      <th>7447</th>\n",
       "      <td>23827</td>\n",
       "      <td>15000</td>\n",
       "      <td>193355800</td>\n",
       "      <td>Paranormal Activity</td>\n",
       "      <td>[Horror, Mystery]</td>\n",
       "      <td>6.1</td>\n",
       "      <td>2007</td>\n",
       "      <td>15775.028739</td>\n",
       "      <td>2.033462e+08</td>\n",
       "      <td>1.288939e+04</td>\n",
       "    </tr>\n",
       "    <tr>\n",
       "      <th>3785</th>\n",
       "      <td>58699</td>\n",
       "      <td>17000</td>\n",
       "      <td>101236</td>\n",
       "      <td>Bellflower</td>\n",
       "      <td>[Action, Drama, Romance]</td>\n",
       "      <td>6.7</td>\n",
       "      <td>2011</td>\n",
       "      <td>16479.766724</td>\n",
       "      <td>9.813798e+04</td>\n",
       "      <td>4.955059e+00</td>\n",
       "    </tr>\n",
       "  </tbody>\n",
       "</table>\n",
       "</div>"
      ],
      "text/plain": [
       "           id  budget    revenue                      original_title  \\\n",
       "3581    59296       1       1378             Love, Wedding, Marriage   \n",
       "2618    39964       1        100                        Lost & Found   \n",
       "2398    39356       3         43                                 Boy   \n",
       "8944    14373       2         16                        Death Wish 2   \n",
       "10050   20701       3         16  Tales from the Darkside: The Movie   \n",
       "8235    25066       6         11                 Tales from the Hood   \n",
       "5852   217708      10         11                        Hross Ã­ oss   \n",
       "8125    11980       8         16                        The Prophecy   \n",
       "5162    24914      10          5                         Kid's Story   \n",
       "10297    9644       8         27  National Lampoon's Loaded Weapon 1   \n",
       "5785   212769      15        122                      Make Your Move   \n",
       "3853    62796      20         15                      William & Kate   \n",
       "4675    63574      25         30                        Joyful Noise   \n",
       "10236    1499      21         42    Teenage Mutant Ninja Turtles III   \n",
       "2519    10397      25         13                      Angela's Ashes   \n",
       "10777   28932      11         11                            F.I.S.T.   \n",
       "9992     1669      30        200            The Hunt for Red October   \n",
       "1733    22717      75        134                              Wanted   \n",
       "3968     4614      68        193                The Sum of All Fears   \n",
       "3608    50217      93    2500000                  From Prada to Nada   \n",
       "10495    8856     113  115103979             The Karate Kid, Part II   \n",
       "6179    11338     114    6700000                      Into the Night   \n",
       "7813    22887    6000       6000             Loose Change: Final Cut   \n",
       "3755    79120    8000     469947                             Weekend   \n",
       "7044    14337    7000     424760                              Primer   \n",
       "7447    23827   15000  193355800                 Paranormal Activity   \n",
       "3785    58699   17000     101236                          Bellflower   \n",
       "\n",
       "                                             genres  vote_average  \\\n",
       "3581                              [Comedy, Romance]           5.3   \n",
       "2618                              [Comedy, Romance]           4.8   \n",
       "2398                                [Drama, Comedy]           7.3   \n",
       "8944                      [Action, Crime, Thriller]           5.6   \n",
       "10050                     [Fantasy, Horror, Comedy]           5.8   \n",
       "8235                             [Horror, Thriller]           5.1   \n",
       "5852                       [Drama, Romance, Comedy]           6.5   \n",
       "8125                    [Fantasy, Horror, Thriller]           5.5   \n",
       "5162                   [Science Fiction, Animation]           6.8   \n",
       "10297                                      [Comedy]           5.5   \n",
       "5785                                        [Music]           5.9   \n",
       "3853                               [Drama, Romance]           5.9   \n",
       "4675                                [Comedy, Music]           6.7   \n",
       "10236  [Action, Adventure, Comedy, Family, Fantasy]           5.2   \n",
       "2519                                        [Drama]           7.0   \n",
       "10777                               [Drama, Action]           6.7   \n",
       "9992                  [Action, Adventure, Thriller]           6.9   \n",
       "1733              [Action, Comedy, Crime, Thriller]           4.9   \n",
       "3968                      [Thriller, Action, Drama]           5.7   \n",
       "3608                       [Comedy, Drama, Romance]           5.2   \n",
       "10495   [Adventure, Drama, Action, Romance, Family]           5.8   \n",
       "6179                      [Comedy, Drama, Thriller]           6.1   \n",
       "7813                                  [Documentary]           5.1   \n",
       "3755                               [Drama, Romance]           7.4   \n",
       "7044             [Science Fiction, Drama, Thriller]           6.9   \n",
       "7447                              [Horror, Mystery]           6.1   \n",
       "3785                       [Action, Drama, Romance]           6.7   \n",
       "\n",
       "       release_year    budget_adj   revenue_adj           ROI  \n",
       "3581           2011      0.969398  1.335831e+03  1.377000e+03  \n",
       "2618           1999      1.309053  1.309053e+02  9.900000e+01  \n",
       "2398           2010      3.000000  4.300000e+01  1.333333e+01  \n",
       "8944           1982      4.519285  3.615428e+01  7.000000e+00  \n",
       "10050          1990      5.006696  2.670238e+01  4.333333e+00  \n",
       "8235           1995      8.585801  1.574064e+01  8.333333e-01  \n",
       "5852           2013      9.360334  1.029637e+01  1.000000e-01  \n",
       "8125           1995     11.447735  2.289547e+01  1.000000e+00  \n",
       "5162           2003     11.853526  5.926763e+00 -5.000000e-01  \n",
       "10297          1993     12.075760  4.075569e+01  2.375000e+00  \n",
       "5785           2013     14.040500  1.141961e+02  7.133333e+00  \n",
       "3853           2011     19.387961  1.454097e+01 -2.500000e-01  \n",
       "4675           2012     23.743607  2.849233e+01  2.000000e-01  \n",
       "10236          1993     31.698869  6.339774e+01  1.000000e+00  \n",
       "2519           1999     32.726321  1.701769e+01 -4.800000e-01  \n",
       "10777          1978     36.769708  3.676971e+01  0.000000e+00  \n",
       "9992           1990     50.066956  3.337797e+02  5.666667e+00  \n",
       "1733           2009     76.230033  1.361977e+02  7.866667e-01  \n",
       "3968           2002     82.433775  2.339664e+02  1.838235e+00  \n",
       "3608           2011     90.154018  2.423495e+06  2.688072e+04  \n",
       "10495          1986    224.802924  2.289886e+08  1.018618e+06  \n",
       "6179           1985    231.096930  1.358201e+07  5.877093e+04  \n",
       "7813           2007   6310.011496  6.310011e+03  0.000000e+00  \n",
       "3755           2011   7755.184341  4.555657e+05  5.774337e+01  \n",
       "7044           2004   8081.117799  4.903622e+05  5.968000e+01  \n",
       "7447           2007  15775.028739  2.033462e+08  1.288939e+04  \n",
       "3785           2011  16479.766724  9.813798e+04  4.955059e+00  "
      ]
     },
     "execution_count": 28,
     "metadata": {},
     "output_type": "execute_result"
    }
   ],
   "source": [
    "df[df['budget_adj'] < 21000].sort_values(by = 'budget_adj')"
   ]
  },
  {
   "cell_type": "markdown",
   "metadata": {},
   "source": [
    "The above output shows the movie, 'Primer', with \\\\$8081, approximately the same to the wikipedia information. But, there are movies made with lower budget. So I checked some of them, and turned out many are incorrect. For example, the budget of 'Lost & Found'(1999) is \\\\$30 million, not \\\\$1.3, 'Joyful Noise' (2012), \\\\$25 millon, not \\\\$23, and 'Weekend'(2011), \\\\$0.14 millon, not \\\\$7755. \n",
    "\n",
    "Although I did not check all of them, I think it is enough to distrust records with budget lower than $8081. I am going to remove them. \n",
    "\n",
    "References:\n",
    "* https://en.wikipedia.org/wiki/Lost_%26_Found_(1999_film)\n",
    "* https://en.wikipedia.org/wiki/Joyful_Noise_(film)\n",
    "* https://en.wikipedia.org/wiki/Weekend_(2011_film)"
   ]
  },
  {
   "cell_type": "markdown",
   "metadata": {},
   "source": [
    "### 2.7.2. Genres"
   ]
  },
  {
   "cell_type": "code",
   "execution_count": 29,
   "metadata": {},
   "outputs": [
    {
     "data": {
      "text/plain": [
       "Drama              1756\n",
       "Comedy             1358\n",
       "Thriller           1204\n",
       "Action             1085\n",
       "Adventure           749\n",
       "Romance             667\n",
       "Crime               651\n",
       "Science Fiction     519\n",
       "Horror              463\n",
       "Family              425\n",
       "Fantasy             396\n",
       "Mystery             344\n",
       "Animation           201\n",
       "Music               136\n",
       "History             129\n",
       "War                 119\n",
       "Western              52\n",
       "Documentary          35\n",
       "Foreign              13\n",
       "TV Movie              1\n",
       "Name: genres, dtype: int64"
      ]
     },
     "execution_count": 29,
     "metadata": {},
     "output_type": "execute_result"
    }
   ],
   "source": [
    "# Generate a long format dataframe \n",
    "df_long = df.explode('genres')\n",
    "\n",
    "# Count the number of inclusion of each genre.\n",
    "df_long['genres'].value_counts()"
   ]
  },
  {
   "cell_type": "code",
   "execution_count": 30,
   "metadata": {},
   "outputs": [
    {
     "data": {
      "text/plain": [
       "[Text(0.5, 0, 'Budget'),\n",
       " Text(0, 0.5, 'Frequency'),\n",
       " Text(0.5, 1.0, 'Histogram of Budget')]"
      ]
     },
     "execution_count": 30,
     "metadata": {},
     "output_type": "execute_result"
    },
    {
     "data": {
      "image/png": "[encoded data removed]",
      "text/plain": [
       "<Figure size 576x396 with 1 Axes>"
      ]
     },
     "metadata": {},
     "output_type": "display_data"
    }
   ],
   "source": [
    "ax = plt.axes()\n",
    "\n",
    "n, bins, patches = plt.hist(df['budget_adj'], bins = 100)\n",
    "ax.set_xticks(bins)\n",
    "ax.xaxis.set_major_formatter(currency)\n",
    "\n",
    "labels = ax.get_xticklabels()\n",
    "plt.setp(labels, rotation=45, horizontalalignment='right')\n",
    "ax.set(xlabel='Budget', ylabel='Frequency',\n",
    "       title='Histogram of Budget')"
   ]
  },
  {
   "cell_type": "markdown",
   "metadata": {},
   "source": [
    "There are a very small number of movies that involve Western, Documentary, Foreign, or TV Movie. "
   ]
  },
  {
   "cell_type": "markdown",
   "metadata": {},
   "source": [
    "### 2.7.3. Vote scores"
   ]
  },
  {
   "cell_type": "code",
   "execution_count": 31,
   "metadata": {},
   "outputs": [
    {
     "data": {
      "image/png": "[encoded data removed]",
      "text/plain": [
       "<Figure size 576x396 with 1 Axes>"
      ]
     },
     "metadata": {},
     "output_type": "display_data"
    }
   ],
   "source": [
    "ax = plt.axes()\n",
    "\n",
    "n, bins, patches = plt.hist(df['vote_average'])\n",
    "ax.set_xticks(bins)\n",
    "\n",
    "ax.set(xlabel='Vote Score', ylabel='Frequency',\n",
    "       title='Histogram of Vote Score')\n",
    "ax.axvline(x = df['vote_average'].mean(), color = 'r', label = 'mean');"
   ]
  },
  {
   "cell_type": "code",
   "execution_count": 32,
   "metadata": {},
   "outputs": [
    {
     "data": {
      "image/png": "[encoded data removed]",
      "text/plain": [
       "<Figure size 576x396 with 1 Axes>"
      ]
     },
     "metadata": {},
     "output_type": "display_data"
    }
   ],
   "source": [
    "ax = plt.axes()\n",
    "plt.boxplot(df['vote_average'])\n",
    "ax.set(ylabel='Vote Score',\n",
    "       title='Boxplot of Vote Score')\n",
    "\n",
    "ax.set_xticks([]);"
   ]
  },
  {
   "cell_type": "markdown",
   "metadata": {},
   "source": [
    "The above shows that the minimum vote score is quite far away."
   ]
  },
  {
   "cell_type": "markdown",
   "metadata": {},
   "source": [
    "### 2.7.4. ROI"
   ]
  },
  {
   "cell_type": "code",
   "execution_count": 33,
   "metadata": {},
   "outputs": [
    {
     "data": {
      "image/png": "[encoded data removed]",
      "text/plain": [
       "<Figure size 576x396 with 1 Axes>"
      ]
     },
     "metadata": {},
     "output_type": "display_data"
    }
   ],
   "source": [
    "ax = plt.axes()\n",
    "\n",
    "n, bins, patches = plt.hist(df['ROI'])\n",
    "ax.set_xticks(bins)\n",
    "\n",
    "ax.set(xlabel='ROI', ylabel='Frequency',\n",
    "       title='Histogram of ROI');"
   ]
  },
  {
   "cell_type": "code",
   "execution_count": 34,
   "metadata": {},
   "outputs": [
    {
     "data": {
      "image/png": "[encoded data removed]",
      "text/plain": [
       "<Figure size 576x396 with 1 Axes>"
      ]
     },
     "metadata": {},
     "output_type": "display_data"
    }
   ],
   "source": [
    "ax = plt.axes()\n",
    "plt.boxplot(df['ROI'])\n",
    "ax.set(ylabel='ROI',\n",
    "       title='Boxplot of ROI (Including All)')\n",
    "\n",
    "ax.set_xticks([]);"
   ]
  },
  {
   "cell_type": "code",
   "execution_count": 35,
   "metadata": {},
   "outputs": [
    {
     "data": {
      "text/html": [
       "<div>\n",
       "<style scoped>\n",
       "    .dataframe tbody tr th:only-of-type {\n",
       "        vertical-align: middle;\n",
       "    }\n",
       "\n",
       "    .dataframe tbody tr th {\n",
       "        vertical-align: top;\n",
       "    }\n",
       "\n",
       "    .dataframe thead th {\n",
       "        text-align: right;\n",
       "    }\n",
       "</style>\n",
       "<table border=\"1\" class=\"dataframe\">\n",
       "  <thead>\n",
       "    <tr style=\"text-align: right;\">\n",
       "      <th></th>\n",
       "      <th>index</th>\n",
       "      <th>ROI</th>\n",
       "      <th>ratio</th>\n",
       "    </tr>\n",
       "  </thead>\n",
       "  <tbody>\n",
       "    <tr>\n",
       "      <th>0</th>\n",
       "      <td>10495</td>\n",
       "      <td>1.018618e+06</td>\n",
       "      <td>17.332009</td>\n",
       "    </tr>\n",
       "    <tr>\n",
       "      <th>1</th>\n",
       "      <td>6179</td>\n",
       "      <td>5.877093e+04</td>\n",
       "      <td>2.186360</td>\n",
       "    </tr>\n",
       "    <tr>\n",
       "      <th>2</th>\n",
       "      <td>3608</td>\n",
       "      <td>2.688072e+04</td>\n",
       "      <td>2.085493</td>\n",
       "    </tr>\n",
       "    <tr>\n",
       "      <th>3</th>\n",
       "      <td>7447</td>\n",
       "      <td>1.288939e+04</td>\n",
       "      <td>1.299464</td>\n",
       "    </tr>\n",
       "    <tr>\n",
       "      <th>4</th>\n",
       "      <td>2449</td>\n",
       "      <td>9.919000e+03</td>\n",
       "      <td>7.203341</td>\n",
       "    </tr>\n",
       "    <tr>\n",
       "      <th>5</th>\n",
       "      <td>3581</td>\n",
       "      <td>1.377000e+03</td>\n",
       "      <td>1.969957</td>\n",
       "    </tr>\n",
       "    <tr>\n",
       "      <th>6</th>\n",
       "      <td>1354</td>\n",
       "      <td>6.990000e+02</td>\n",
       "      <td>1.400802</td>\n",
       "    </tr>\n",
       "    <tr>\n",
       "      <th>7</th>\n",
       "      <td>7277</td>\n",
       "      <td>4.990000e+02</td>\n",
       "      <td>1.137668</td>\n",
       "    </tr>\n",
       "    <tr>\n",
       "      <th>8</th>\n",
       "      <td>7178</td>\n",
       "      <td>4.386166e+02</td>\n",
       "      <td>1.030477</td>\n",
       "    </tr>\n",
       "    <tr>\n",
       "      <th>9</th>\n",
       "      <td>242</td>\n",
       "      <td>4.256441e+02</td>\n",
       "      <td>1.014591</td>\n",
       "    </tr>\n",
       "    <tr>\n",
       "      <th>10</th>\n",
       "      <td>7057</td>\n",
       "      <td>4.195227e+02</td>\n",
       "      <td>1.158752</td>\n",
       "    </tr>\n",
       "    <tr>\n",
       "      <th>11</th>\n",
       "      <td>9762</td>\n",
       "      <td>3.620471e+02</td>\n",
       "      <td>1.454004</td>\n",
       "    </tr>\n",
       "    <tr>\n",
       "      <th>12</th>\n",
       "      <td>7827</td>\n",
       "      <td>2.490000e+02</td>\n",
       "      <td>1.071736</td>\n",
       "    </tr>\n",
       "    <tr>\n",
       "      <th>13</th>\n",
       "      <td>10759</td>\n",
       "      <td>2.323333e+02</td>\n",
       "      <td>1.580444</td>\n",
       "    </tr>\n",
       "    <tr>\n",
       "      <th>14</th>\n",
       "      <td>10606</td>\n",
       "      <td>1.470051e+02</td>\n",
       "      <td>1.144537</td>\n",
       "    </tr>\n",
       "  </tbody>\n",
       "</table>\n",
       "</div>"
      ],
      "text/plain": [
       "    index           ROI      ratio\n",
       "0   10495  1.018618e+06  17.332009\n",
       "1    6179  5.877093e+04   2.186360\n",
       "2    3608  2.688072e+04   2.085493\n",
       "3    7447  1.288939e+04   1.299464\n",
       "4    2449  9.919000e+03   7.203341\n",
       "5    3581  1.377000e+03   1.969957\n",
       "6    1354  6.990000e+02   1.400802\n",
       "7    7277  4.990000e+02   1.137668\n",
       "8    7178  4.386166e+02   1.030477\n",
       "9     242  4.256441e+02   1.014591\n",
       "10   7057  4.195227e+02   1.158752\n",
       "11   9762  3.620471e+02   1.454004\n",
       "12   7827  2.490000e+02   1.071736\n",
       "13  10759  2.323333e+02   1.580444\n",
       "14  10606  1.470051e+02   1.144537"
      ]
     },
     "execution_count": 35,
     "metadata": {},
     "output_type": "execute_result"
    }
   ],
   "source": [
    "# Comparison with the next smaller datapoint\n",
    "temp = df['ROI'].sort_values(ascending = False).reset_index()\n",
    "temp['ratio'] = temp['ROI'] / temp['ROI'].shift(-1)\n",
    "temp.head(15)"
   ]
  },
  {
   "cell_type": "markdown",
   "metadata": {},
   "source": [
    "I will only keep movies with lower than 1000 for ROI, so that ROIs of all remaining datapoints are not twice larger than their next smaller one."
   ]
  },
  {
   "cell_type": "markdown",
   "metadata": {},
   "source": [
    "### 2.7.5. Remove outliers\n",
    "\n",
    "I identified data points to remove through the inspection above. The following will be done:\n",
    "1. With regard to genres, I noted that 'Western', 'Documentary', 'Foreign', and 'TV Movie' were involved by a quite small number of movies. I will remove records involving these genres.\n",
    "2. For the budget, I will remove movies whose budget is lower than 8081 (budget of the movie, 'Primer (2004)'.\n",
    "3. For vote scores, the minimum value data point was significantly low. It will be excluded. \n",
    "4. For ROI, several top ROI value data points will be removed, so that ROIs of all datapoints are not twice larger than their next smaller one.\n"
   ]
  },
  {
   "cell_type": "code",
   "execution_count": 36,
   "metadata": {},
   "outputs": [],
   "source": [
    "df_org = df.copy()"
   ]
  },
  {
   "cell_type": "code",
   "execution_count": 37,
   "metadata": {},
   "outputs": [
    {
     "data": {
      "text/plain": [
       "(3854, 10)"
      ]
     },
     "execution_count": 37,
     "metadata": {},
     "output_type": "execute_result"
    }
   ],
   "source": [
    "df.shape"
   ]
  },
  {
   "cell_type": "code",
   "execution_count": 38,
   "metadata": {},
   "outputs": [],
   "source": [
    "# (1) Remove movies involving 'Western', 'Documentary', 'Foreign', or 'TV Movie'\n",
    "def remove_genres(x, genre_list):\n",
    "    for item in x:\n",
    "        if item in genre_list:\n",
    "            return False\n",
    "    return True\n",
    "\n",
    "s = df.genres.apply(remove_genres, \\\n",
    "genre_list = ['Western', 'Documentary', 'Foreign', 'TV Movie'])\n",
    "\n",
    "df = df[s]"
   ]
  },
  {
   "cell_type": "code",
   "execution_count": 39,
   "metadata": {},
   "outputs": [],
   "source": [
    "df_org['ol_genre'] = s"
   ]
  },
  {
   "cell_type": "code",
   "execution_count": 40,
   "metadata": {},
   "outputs": [
    {
     "data": {
      "text/plain": [
       "Drama              1715\n",
       "Comedy             1340\n",
       "Thriller           1193\n",
       "Action             1057\n",
       "Adventure           727\n",
       "Romance             659\n",
       "Crime               646\n",
       "Science Fiction     517\n",
       "Horror              461\n",
       "Family              418\n",
       "Fantasy             394\n",
       "Mystery             341\n",
       "Animation           198\n",
       "Music               128\n",
       "History             123\n",
       "War                 116\n",
       "Name: genres, dtype: int64"
      ]
     },
     "execution_count": 40,
     "metadata": {},
     "output_type": "execute_result"
    }
   ],
   "source": [
    "df_long = df.explode('genres')\n",
    "df_long['genres'].value_counts()"
   ]
  },
  {
   "cell_type": "code",
   "execution_count": 41,
   "metadata": {},
   "outputs": [
    {
     "data": {
      "text/plain": [
       "(3754, 10)"
      ]
     },
     "execution_count": 41,
     "metadata": {},
     "output_type": "execute_result"
    }
   ],
   "source": [
    "df.shape"
   ]
  },
  {
   "cell_type": "code",
   "execution_count": 42,
   "metadata": {},
   "outputs": [
    {
     "data": {
      "text/plain": [
       "(3731, 10)"
      ]
     },
     "execution_count": 42,
     "metadata": {},
     "output_type": "execute_result"
    }
   ],
   "source": [
    "# (2) Remove low budget movies\n",
    "df_org['ol_budget'] = df_org.budget_adj.apply(lambda x: True if x < 8081 else False)\n",
    "\n",
    "df = df[df['budget_adj'] > 8081]\n",
    "df.shape"
   ]
  },
  {
   "cell_type": "code",
   "execution_count": 43,
   "metadata": {},
   "outputs": [
    {
     "data": {
      "text/plain": [
       "2.2"
      ]
     },
     "execution_count": 43,
     "metadata": {},
     "output_type": "execute_result"
    }
   ],
   "source": [
    "# (3) Remove a movie with a minimum vote average\n",
    "\n",
    "# First, check if the target value has been removed already\n",
    "df['vote_average'].min()"
   ]
  },
  {
   "cell_type": "code",
   "execution_count": 44,
   "metadata": {},
   "outputs": [
    {
     "data": {
      "text/plain": [
       "(3730, 10)"
      ]
     },
     "execution_count": 44,
     "metadata": {},
     "output_type": "execute_result"
    }
   ],
   "source": [
    "# As it still exists\n",
    "df = df[df['vote_average'] > df['vote_average'].min()]\n",
    "df.shape"
   ]
  },
  {
   "cell_type": "code",
   "execution_count": 45,
   "metadata": {},
   "outputs": [
    {
     "data": {
      "text/plain": [
       "(3728, 10)"
      ]
     },
     "execution_count": 45,
     "metadata": {},
     "output_type": "execute_result"
    }
   ],
   "source": [
    "# (4) Remove ROI outliers\n",
    "\n",
    "df_org['ol_roi'] = df_org.ROI.apply(lambda x: True if x >= 1000 else False)\n",
    "\n",
    "df = df[df['ROI'] < 1000]\n",
    "df.shape"
   ]
  },
  {
   "cell_type": "markdown",
   "metadata": {},
   "source": [
    "In total, 126 records were removed, leaving 3728 records. "
   ]
  },
  {
   "cell_type": "markdown",
   "metadata": {},
   "source": [
    "# 3. Explore Individual Variables<a class=\"anchor\" id=\"ch3\"></a>"
   ]
  },
  {
   "cell_type": "markdown",
   "metadata": {},
   "source": [
    "## 3.1. Budget"
   ]
  },
  {
   "cell_type": "code",
   "execution_count": 46,
   "metadata": {},
   "outputs": [
    {
     "data": {
      "text/plain": [
       "count    3.728000e+03\n",
       "mean     4.468449e+07\n",
       "std      4.437056e+07\n",
       "min      8.081118e+03\n",
       "25%      1.360327e+07\n",
       "50%      3.039101e+07\n",
       "75%      6.087715e+07\n",
       "max      3.683713e+08\n",
       "Name: budget_adj, dtype: float64"
      ]
     },
     "execution_count": 46,
     "metadata": {},
     "output_type": "execute_result"
    }
   ],
   "source": [
    "df['budget_adj'].describe()"
   ]
  },
  {
   "cell_type": "code",
   "execution_count": 47,
   "metadata": {},
   "outputs": [
    {
     "data": {
      "image/png": "[encoded data removed]",
      "text/plain": [
       "<Figure size 576x396 with 1 Axes>"
      ]
     },
     "metadata": {},
     "output_type": "display_data"
    }
   ],
   "source": [
    "ax = plt.axes()\n",
    "\n",
    "n, bins, patches = plt.hist(df['budget_adj'])\n",
    "ax.set_xticks(bins)\n",
    "ax.xaxis.set_major_formatter(currency)\n",
    "\n",
    "labels = ax.get_xticklabels()\n",
    "plt.setp(labels, rotation=45, horizontalalignment='right')\n",
    "ax.set(xlabel='Budget', ylabel='Frequency',\n",
    "       title='Histogram of Budget (Cleaned Dataset)')\n",
    "\n",
    "ax.axvline(x = df['budget_adj'].median(), color = 'r', label = 'median');"
   ]
  },
  {
   "cell_type": "code",
   "execution_count": 48,
   "metadata": {},
   "outputs": [
    {
     "data": {
      "image/png": "[encoded data removed]",
      "text/plain": [
       "<Figure size 576x396 with 1 Axes>"
      ]
     },
     "metadata": {},
     "output_type": "display_data"
    }
   ],
   "source": [
    "ax = plt.axes()\n",
    "plt.boxplot(df['budget_adj'])\n",
    "ax.set(ylabel='Budget',\n",
    "       title='Boxplot of Budget (Cleaned Dataset)')\n",
    "ax.yaxis.set_major_formatter(currency)\n",
    "ax.set_xticks([]);"
   ]
  },
  {
   "cell_type": "code",
   "execution_count": 49,
   "metadata": {},
   "outputs": [],
   "source": [
    "# Divide into 4 according to budget\n",
    "qt = df['budget_adj'].quantile([0.25, 0.5, 0.75])\n",
    "\n",
    "def binning4(x):\n",
    "    if x < qt[0.25]:\n",
    "        return \"Low\"\n",
    "    elif (x >= qt[0.25]) & (x < qt[0.5]):\n",
    "        return \"Moderate\"\n",
    "    elif (x >= qt[0.5]) & (x < qt[0.75]):\n",
    "        return 'Little High'\n",
    "    elif x >= qt[0.75]:\n",
    "        return 'High'\n",
    "    \n",
    "df['budget_level'] = df['budget_adj'].apply(binning4)"
   ]
  },
  {
   "cell_type": "code",
   "execution_count": 50,
   "metadata": {},
   "outputs": [],
   "source": [
    "# Set values as categories; this will make sure outputs are arranged in this order.\n",
    "sorter = ['Low', 'Moderate', 'Little High', 'High']\n",
    "df['budget_level'] = df['budget_level'].astype(\"category\")\n",
    "df['budget_level'].cat.set_categories(sorter, inplace=True)"
   ]
  },
  {
   "cell_type": "code",
   "execution_count": 51,
   "metadata": {},
   "outputs": [
    {
     "data": {
      "text/plain": [
       "budget_level\n",
       "Low            932\n",
       "Moderate       931\n",
       "Little High    933\n",
       "High           932\n",
       "Name: id, dtype: int64"
      ]
     },
     "execution_count": 51,
     "metadata": {},
     "output_type": "execute_result"
    }
   ],
   "source": [
    "df.groupby('budget_level')['id'].count()"
   ]
  },
  {
   "cell_type": "code",
   "execution_count": 52,
   "metadata": {},
   "outputs": [
    {
     "data": {
      "image/png": "[encoded data removed]",
      "text/plain": [
       "<Figure size 576x396 with 1 Axes>"
      ]
     },
     "metadata": {},
     "output_type": "display_data"
    }
   ],
   "source": [
    "ax = plt.axes()\n",
    "\n",
    "pd.DataFrame({'Median': df.groupby('budget_level')['budget_adj'].median(), \\\n",
    "              'Mean': df.groupby('budget_level')['budget_adj'].mean()}\\\n",
    "            ).plot.bar(rot = 45, ax = ax)\n",
    "\n",
    "ax.yaxis.set_major_formatter(currency)\n",
    "ax.set(xlabel='Budget Level', ylabel='Amount',\n",
    "       title='Median and Mean of Budget by Budget Level');"
   ]
  },
  {
   "cell_type": "markdown",
   "metadata": {},
   "source": [
    "## 3.2. ROI"
   ]
  },
  {
   "cell_type": "code",
   "execution_count": 53,
   "metadata": {},
   "outputs": [
    {
     "data": {
      "text/plain": [
       "count    3728.000000\n",
       "mean        4.096601\n",
       "std        21.105841\n",
       "min        -1.000000\n",
       "25%        -0.119730\n",
       "50%         1.121400\n",
       "75%         3.185074\n",
       "max       699.000000\n",
       "Name: ROI, dtype: float64"
      ]
     },
     "execution_count": 53,
     "metadata": {},
     "output_type": "execute_result"
    }
   ],
   "source": [
    "df['ROI'].describe()"
   ]
  },
  {
   "cell_type": "code",
   "execution_count": 54,
   "metadata": {},
   "outputs": [
    {
     "data": {
      "image/png": "[encoded data removed]",
      "text/plain": [
       "<Figure size 576x396 with 1 Axes>"
      ]
     },
     "metadata": {},
     "output_type": "display_data"
    }
   ],
   "source": [
    "ax = plt.axes()\n",
    "\n",
    "n, bins, patches = plt.hist(df['ROI'], bins = 30)\n",
    "ax.set_xticks(bins)\n",
    "\n",
    "labels = ax.get_xticklabels()\n",
    "plt.setp(labels, rotation=45, horizontalalignment='right')\n",
    "ax.set(xlabel='ROI', ylabel='Frequency',\n",
    "       title='Histogram of ROI (Cleaned Dataset)')\n",
    "\n",
    "ax.axvline(x = df['ROI'].median(), color = 'r', label = 'median');"
   ]
  },
  {
   "cell_type": "code",
   "execution_count": 55,
   "metadata": {},
   "outputs": [
    {
     "data": {
      "image/png": "[encoded data removed]",
      "text/plain": [
       "<Figure size 576x396 with 1 Axes>"
      ]
     },
     "metadata": {},
     "output_type": "display_data"
    }
   ],
   "source": [
    "ax = plt.axes()\n",
    "plt.boxplot(df['ROI'])\n",
    "ax.set(ylabel='ROI',\n",
    "       title='Boxplot of ROI (Cleaned Dataset)')\n",
    "\n",
    "ax.set_xticks([]);"
   ]
  },
  {
   "cell_type": "code",
   "execution_count": 56,
   "metadata": {},
   "outputs": [],
   "source": [
    "qt = df['ROI'].quantile([0.25, 0.5, 0.75])\n",
    "df['ROI_level'] = df['ROI'].apply(binning4)"
   ]
  },
  {
   "cell_type": "code",
   "execution_count": 57,
   "metadata": {},
   "outputs": [],
   "source": [
    "sorter = ['Low', 'Moderate', 'Little High', 'High']\n",
    "df['ROI_level'] = df['ROI_level'].astype(\"category\")\n",
    "df['ROI_level'].cat.set_categories(sorter, inplace=True)"
   ]
  },
  {
   "cell_type": "code",
   "execution_count": 58,
   "metadata": {},
   "outputs": [
    {
     "data": {
      "text/plain": [
       "ROI_level\n",
       "Low            932\n",
       "Moderate       932\n",
       "Little High    932\n",
       "High           932\n",
       "Name: id, dtype: int64"
      ]
     },
     "execution_count": 58,
     "metadata": {},
     "output_type": "execute_result"
    }
   ],
   "source": [
    "df.groupby('ROI_level')['id'].count()"
   ]
  },
  {
   "cell_type": "code",
   "execution_count": 59,
   "metadata": {},
   "outputs": [
    {
     "data": {
      "image/png": "[encoded data removed]",
      "text/plain": [
       "<Figure size 576x396 with 1 Axes>"
      ]
     },
     "metadata": {},
     "output_type": "display_data"
    }
   ],
   "source": [
    "ax = plt.axes()\n",
    "pd.DataFrame({'Median': df.groupby('ROI_level')['ROI'].median(), \\\n",
    "              'Mean': df.groupby('ROI_level')['ROI'].mean()}\\\n",
    "            ).plot.bar(rot = 45, ax = ax)\n",
    "\n",
    "ax.set(xlabel='ROI Level', ylabel='ROI',\n",
    "       title='Median and Mean of ROI by ROI Level');"
   ]
  },
  {
   "cell_type": "markdown",
   "metadata": {},
   "source": [
    "## 3.3. Genres"
   ]
  },
  {
   "cell_type": "code",
   "execution_count": 60,
   "metadata": {},
   "outputs": [],
   "source": [
    "df_long = df.explode('genres')\n",
    "temp = df_long['genres'].value_counts()"
   ]
  },
  {
   "cell_type": "code",
   "execution_count": 61,
   "metadata": {},
   "outputs": [
    {
     "data": {
      "image/png": "[encoded data removed]",
      "text/plain": [
       "<Figure size 576x396 with 1 Axes>"
      ]
     },
     "metadata": {},
     "output_type": "display_data"
    }
   ],
   "source": [
    "ax = plt.axes()\n",
    "\n",
    "temp = temp/len(df)*100\n",
    "temp.plot(kind = 'bar')\n",
    "\n",
    "ax.tick_params(axis='x', labelrotation=45)\n",
    "ax.set(xlabel='Genre', ylabel='Percentage(%)',\n",
    "       title='Proportion of Movies by Genre');"
   ]
  },
  {
   "cell_type": "markdown",
   "metadata": {},
   "source": [
    "## 3.4. Vote score"
   ]
  },
  {
   "cell_type": "code",
   "execution_count": 62,
   "metadata": {},
   "outputs": [
    {
     "data": {
      "text/plain": [
       "count    3728.000000\n",
       "mean        6.162312\n",
       "std         0.791082\n",
       "min         3.300000\n",
       "25%         5.600000\n",
       "50%         6.200000\n",
       "75%         6.700000\n",
       "max         8.400000\n",
       "Name: vote_average, dtype: float64"
      ]
     },
     "execution_count": 62,
     "metadata": {},
     "output_type": "execute_result"
    }
   ],
   "source": [
    "df['vote_average'].describe()"
   ]
  },
  {
   "cell_type": "code",
   "execution_count": 63,
   "metadata": {},
   "outputs": [
    {
     "data": {
      "image/png": "[encoded data removed]",
      "text/plain": [
       "<Figure size 576x396 with 1 Axes>"
      ]
     },
     "metadata": {},
     "output_type": "display_data"
    }
   ],
   "source": [
    "ax = plt.axes()\n",
    "\n",
    "n, bins, patches = plt.hist(df['vote_average'])\n",
    "ax.set_xticks(bins)\n",
    "\n",
    "ax.set(xlabel='Vote Score', ylabel='Frequency',\n",
    "       title='Histogram of Vote Score (Cleaned Dataset)')\n",
    "ax.axvline(x = df['ROI'].mean(), color = 'r', label = 'median');"
   ]
  },
  {
   "cell_type": "code",
   "execution_count": 64,
   "metadata": {},
   "outputs": [
    {
     "data": {
      "image/png": "[encoded data removed]",
      "text/plain": [
       "<Figure size 576x396 with 1 Axes>"
      ]
     },
     "metadata": {},
     "output_type": "display_data"
    }
   ],
   "source": [
    "ax = plt.axes()\n",
    "plt.boxplot(df['vote_average'])\n",
    "ax.set(ylabel='Vote Score',\n",
    "       title='Boxplot of Vote Score (Cleaned Dataset)')\n",
    "\n",
    "ax.set_xticks([]);"
   ]
  },
  {
   "cell_type": "markdown",
   "metadata": {},
   "source": [
    "# 4. Did high budget movies achieve high ROI? (Q1)<a class=\"anchor\" id=\"ch4\"></a>\n",
    "\n",
    "To explore relationships, I will make:\n",
    "1. scatter plot\n",
    "2. ROI distribution by budget level,\n",
    "3. bar chart of ROI media/mean by budget level, and\n",
    "4. contingency table of ROI and budget levels."
   ]
  },
  {
   "cell_type": "markdown",
   "metadata": {},
   "source": [
    "## 4.1. Scatter plot"
   ]
  },
  {
   "cell_type": "code",
   "execution_count": 65,
   "metadata": {},
   "outputs": [
    {
     "data": {
      "image/png": "[encoded data removed]",
      "text/plain": [
       "<Figure size 576x396 with 1 Axes>"
      ]
     },
     "metadata": {},
     "output_type": "display_data"
    }
   ],
   "source": [
    "ax = plt.axes()\n",
    "plt.scatter(x=df['budget_adj'], y=df['ROI'])\n",
    "ax.set(xlabel = \"Budget\", ylabel='ROI',\n",
    "       title='Budget vs ROI')\n",
    "\n",
    "ax.xaxis.set_major_formatter(currency)"
   ]
  },
  {
   "cell_type": "markdown",
   "metadata": {},
   "source": [
    "## 4.2. ROI distribution by budget level"
   ]
  },
  {
   "cell_type": "code",
   "execution_count": 66,
   "metadata": {},
   "outputs": [
    {
     "data": {
      "image/png": "[encoded data removed]",
      "text/plain": [
       "<Figure size 576x396 with 1 Axes>"
      ]
     },
     "metadata": {},
     "output_type": "display_data"
    }
   ],
   "source": [
    "temp = df.assign(index=df.groupby('budget_level').cumcount())\\\n",
    "    .pivot('index','budget_level','ROI')\n",
    "\n",
    "ax = temp.plot(kind='box')\n",
    "ax.set(xlabel = \"Budget Level\", ylabel='ROI',\n",
    "       title='ROI Distribution of Bugdget Level');"
   ]
  },
  {
   "cell_type": "markdown",
   "metadata": {},
   "source": [
    "## 4.3. ROI media/mean by budget level"
   ]
  },
  {
   "cell_type": "code",
   "execution_count": 67,
   "metadata": {},
   "outputs": [
    {
     "data": {
      "image/png": "[encoded data removed]",
      "text/plain": [
       "<Figure size 576x396 with 1 Axes>"
      ]
     },
     "metadata": {},
     "output_type": "display_data"
    }
   ],
   "source": [
    "ax = pd.DataFrame({'Median': df.groupby('budget_level')['ROI'].median(), \\\n",
    "              'Mean': df.groupby('budget_level')['ROI'].mean()}\\\n",
    "            ).plot.bar(rot = 45)\n",
    "\n",
    "ax.set(xlabel='Budget Level', ylabel='ROI',\n",
    "       title='Median and Mean of ROIs by Budget Level');"
   ]
  },
  {
   "cell_type": "code",
   "execution_count": 68,
   "metadata": {},
   "outputs": [
    {
     "data": {
      "image/png": "[encoded data removed]",
      "text/plain": [
       "<Figure size 576x396 with 1 Axes>"
      ]
     },
     "metadata": {},
     "output_type": "display_data"
    }
   ],
   "source": [
    "ax = df.groupby('budget_level')['ROI'].median().plot(kind = 'bar')\n",
    "\n",
    "ax.set(xlabel='Budget Level', ylabel='ROI',\n",
    "       title='Median of ROIs by Budget Level')\n",
    "ax.tick_params(axis='x', labelrotation=45)"
   ]
  },
  {
   "cell_type": "markdown",
   "metadata": {},
   "source": [
    "## 4.4. Contingency table of ROI and budget level"
   ]
  },
  {
   "cell_type": "code",
   "execution_count": 69,
   "metadata": {},
   "outputs": [
    {
     "data": {
      "text/html": [
       "<div>\n",
       "<style scoped>\n",
       "    .dataframe tbody tr th:only-of-type {\n",
       "        vertical-align: middle;\n",
       "    }\n",
       "\n",
       "    .dataframe tbody tr th {\n",
       "        vertical-align: top;\n",
       "    }\n",
       "\n",
       "    .dataframe thead th {\n",
       "        text-align: right;\n",
       "    }\n",
       "</style>\n",
       "<table border=\"1\" class=\"dataframe\">\n",
       "  <thead>\n",
       "    <tr style=\"text-align: right;\">\n",
       "      <th>ROI_level</th>\n",
       "      <th>Low</th>\n",
       "      <th>Moderate</th>\n",
       "      <th>Little High</th>\n",
       "      <th>High</th>\n",
       "    </tr>\n",
       "    <tr>\n",
       "      <th>budget_level</th>\n",
       "      <th></th>\n",
       "      <th></th>\n",
       "      <th></th>\n",
       "      <th></th>\n",
       "    </tr>\n",
       "  </thead>\n",
       "  <tbody>\n",
       "    <tr>\n",
       "      <th>Low</th>\n",
       "      <td>298</td>\n",
       "      <td>149</td>\n",
       "      <td>141</td>\n",
       "      <td>344</td>\n",
       "    </tr>\n",
       "    <tr>\n",
       "      <th>Moderate</th>\n",
       "      <td>239</td>\n",
       "      <td>236</td>\n",
       "      <td>230</td>\n",
       "      <td>226</td>\n",
       "    </tr>\n",
       "    <tr>\n",
       "      <th>Little High</th>\n",
       "      <td>234</td>\n",
       "      <td>270</td>\n",
       "      <td>248</td>\n",
       "      <td>181</td>\n",
       "    </tr>\n",
       "    <tr>\n",
       "      <th>High</th>\n",
       "      <td>161</td>\n",
       "      <td>277</td>\n",
       "      <td>313</td>\n",
       "      <td>181</td>\n",
       "    </tr>\n",
       "  </tbody>\n",
       "</table>\n",
       "</div>"
      ],
      "text/plain": [
       "ROI_level     Low  Moderate  Little High  High\n",
       "budget_level                                  \n",
       "Low           298       149          141   344\n",
       "Moderate      239       236          230   226\n",
       "Little High   234       270          248   181\n",
       "High          161       277          313   181"
      ]
     },
     "execution_count": 69,
     "metadata": {},
     "output_type": "execute_result"
    }
   ],
   "source": [
    "# Contingency table\n",
    "temp = pd.crosstab(df['budget_level'], df['ROI_level'])\n",
    "temp = temp[['Low', 'Moderate', 'Little High', 'High']]\n",
    "temp"
   ]
  },
  {
   "cell_type": "code",
   "execution_count": 70,
   "metadata": {},
   "outputs": [
    {
     "data": {
      "image/png": "[encoded data removed]",
      "text/plain": [
       "<Figure size 576x396 with 1 Axes>"
      ]
     },
     "metadata": {},
     "output_type": "display_data"
    }
   ],
   "source": [
    "ax = temp.plot(kind ='bar')\n",
    "ax.set(xlabel='Budget Level', ylabel='Frequency',\n",
    "       title='Number of Movies by ROI Level for Each Budget Level')\n",
    "ax.tick_params(axis='x', labelrotation=45)\n",
    "\n",
    "plt.legend(title=\"ROI Level\");"
   ]
  },
  {
   "cell_type": "code",
   "execution_count": 71,
   "metadata": {},
   "outputs": [
    {
     "data": {
      "image/png": "[encoded data removed]",
      "text/plain": [
       "<Figure size 576x396 with 1 Axes>"
      ]
     },
     "metadata": {},
     "output_type": "display_data"
    }
   ],
   "source": [
    "# To get ratio to the total number of movies of the budget level\n",
    "# e.g., over 35 percent of the low budget level movies led to the high ROI level. \n",
    "ax = temp.apply(lambda x: x / sum(x), axis = 1).plot(kind ='bar')\n",
    "ax.set(xlabel='Budget Level', ylabel='Percentage(%)',\n",
    "       title='Portion of Movies by ROI Level for Each Budget Level')\n",
    "ax.tick_params(axis='x', labelrotation=45)\n",
    "\n",
    "plt.legend(title=\"ROI Level\");"
   ]
  },
  {
   "cell_type": "markdown",
   "metadata": {},
   "source": [
    "## 4.5. Findings\n",
    "\n",
    "With exploration of the outputs, I noted the following:\n",
    "\n",
    "* The scatter plot shows no association between the budget and ROI.\n",
    "* The ROI boxplots by the budget level shows that ROI values of low budget movies span a wide range, up to 500, the largest ROI value in the dataset. The larger budget groups have the narrower spread of ROIs.\n",
    "* The low and high budget levels show a little higher median values than the moderate and little high budget levels.\n",
    "* The contigency table reveals that the low budget movies achieve the low and high level ROIs more frequently than the moderate and little high level ROIs. As opposed to it, the high budget movies obtain the moderate and little high level ROIs more frequenlty."
   ]
  },
  {
   "cell_type": "markdown",
   "metadata": {},
   "source": [
    "# 5. Did specific genres lead to high ROI? (Q2)<a class=\"anchor\" id=\"ch5\"></a>\n",
    "\n",
    "To compare ROIs between the genres, I am going to calculate two types of means:\n",
    "1. Simply add up all ROIs and divide it with the total number of movies involving that genre. \n",
    "2. Assign weights based on the number genre types involved in a movie. A ROI is multiplied by 1/number_of_genres and the sum is divided by the sum of 1/number_of_genres values. \n",
    "\n",
    "For example, let's assume we have a long format dataframe of three movies as below:\n",
    "\n",
    "| id | genre | ROI | number of genres|\n",
    "|----|-------|-----|-----------------|\n",
    "| 1  |drama  | 3   |2|\n",
    "| 1  |comedy | 3   |2|\n",
    "| 2  |comedy | 5   |1|\n",
    "| 3  |drama  | 2   |1|\n",
    "\n",
    "Simple means are:\n",
    "- drama, (3+2) / 2 = 2.5\n",
    "- comedy, (3+5) / 2 = 4\n",
    "\n",
    "Weighted means are:\n",
    "- drama, (3x1/2+2x1/1) / (1/2+1) = (1.5+2) / 1.5 = 2.33\n",
    "- comedy, (3x1/2+5x1/1) / (1/2+1) = (1.5+5) / 1.5 = 4.33"
   ]
  },
  {
   "cell_type": "markdown",
   "metadata": {},
   "source": [
    "## 5.1. Prep before calculation"
   ]
  },
  {
   "cell_type": "code",
   "execution_count": 72,
   "metadata": {},
   "outputs": [],
   "source": [
    "# Create 'genre_num' column that holds the number of genres involved by each movie; \n",
    "# it will be used in 'weighted' means\n",
    "df['genre_num'] = df.apply(lambda x: len(x.genres), axis=1)"
   ]
  },
  {
   "cell_type": "code",
   "execution_count": 73,
   "metadata": {},
   "outputs": [],
   "source": [
    "df_long = df.explode('genres')"
   ]
  },
  {
   "cell_type": "code",
   "execution_count": 74,
   "metadata": {},
   "outputs": [],
   "source": [
    "temp = df_long.loc[:, ['id', 'genres', 'ROI', 'genre_num']]"
   ]
  },
  {
   "cell_type": "code",
   "execution_count": 75,
   "metadata": {},
   "outputs": [
    {
     "data": {
      "text/plain": [
       "genres\n",
       "Animation          1.787321\n",
       "Horror             1.535396\n",
       "Family             1.471329\n",
       "Music              1.414592\n",
       "Adventure          1.228904\n",
       "War                1.203342\n",
       "Comedy             1.175302\n",
       "Romance            1.126615\n",
       "Fantasy            1.103953\n",
       "Science Fiction    1.079177\n",
       "Action             1.038890\n",
       "Thriller           1.027138\n",
       "Crime              0.899671\n",
       "History            0.856018\n",
       "Drama              0.836353\n",
       "Mystery            0.752976\n",
       "dtype: float64"
      ]
     },
     "execution_count": 75,
     "metadata": {},
     "output_type": "execute_result"
    }
   ],
   "source": [
    "md = temp.groupby('genres').apply(lambda x: x.ROI.median()).\\\n",
    "sort_values(ascending = False)\n",
    "md"
   ]
  },
  {
   "cell_type": "markdown",
   "metadata": {},
   "source": [
    "## 5.2. Calculate simple means"
   ]
  },
  {
   "cell_type": "code",
   "execution_count": 76,
   "metadata": {},
   "outputs": [
    {
     "data": {
      "text/plain": [
       "genres\n",
       "Horror             9.529985\n",
       "Music              5.566142\n",
       "Science Fiction    4.594290\n",
       "Thriller           4.282754\n",
       "Fantasy            4.197815\n",
       "Drama              3.694341\n",
       "Comedy             3.679025\n",
       "Animation          3.311270\n",
       "Adventure          3.292626\n",
       "Romance            3.251800\n",
       "Family             3.053484\n",
       "Action             2.576874\n",
       "Crime              2.464268\n",
       "War                2.408784\n",
       "Mystery            2.394830\n",
       "History            1.999365\n",
       "dtype: float64"
      ]
     },
     "execution_count": 76,
     "metadata": {},
     "output_type": "execute_result"
    }
   ],
   "source": [
    "# Get 'simple' means of the genres\n",
    "sm = temp.groupby('genres').apply(lambda x: x.ROI.mean()).\\\n",
    "sort_values(ascending = False)\n",
    "sm"
   ]
  },
  {
   "cell_type": "markdown",
   "metadata": {},
   "source": [
    "## 5.3. Calculate weighted means"
   ]
  },
  {
   "cell_type": "code",
   "execution_count": 77,
   "metadata": {},
   "outputs": [
    {
     "data": {
      "text/plain": [
       "genres\n",
       "Horror             10.823002\n",
       "Music               5.653756\n",
       "Thriller            4.864953\n",
       "Comedy              4.419165\n",
       "Science Fiction     4.410199\n",
       "Fantasy             3.871349\n",
       "Drama               3.733721\n",
       "Adventure           3.331995\n",
       "Romance             3.301200\n",
       "Animation           3.171698\n",
       "Family              2.949379\n",
       "Crime               2.580112\n",
       "Mystery             2.543738\n",
       "Action              2.530919\n",
       "War                 2.341836\n",
       "History             2.265147\n",
       "dtype: float64"
      ]
     },
     "execution_count": 77,
     "metadata": {},
     "output_type": "execute_result"
    }
   ],
   "source": [
    "# Get 'weighted' means of the genres\n",
    "temp['ROI_w'] = temp.apply(lambda x: x.ROI * (1/x.genre_num), axis = 1)\n",
    "wm = temp.groupby('genres').apply(lambda x: sum(x.ROI_w) / sum(1/x.genre_num)).\\\n",
    "sort_values(ascending = False)\n",
    "wm"
   ]
  },
  {
   "cell_type": "markdown",
   "metadata": {},
   "source": [
    "## 5.4. Findings\n",
    "The below charts show that results of the two methods are not identical, but the order of genres are the same: \n",
    "* 'Horror' genre is quite contrastively the most profitable in terms of ROI,\n",
    "* The next profitable genre is 'Music' by round 4 or 5 smaller ROI than Horror,\n",
    "* The ROI values gradually decrease after that, and thus the difference between 'Music' and 'History' is only about 3.5. "
   ]
  },
  {
   "cell_type": "code",
   "execution_count": 78,
   "metadata": {},
   "outputs": [
    {
     "data": {
      "image/png": "[encoded data removed]",
      "text/plain": [
       "<Figure size 576x288 with 2 Axes>"
      ]
     },
     "metadata": {},
     "output_type": "display_data"
    }
   ],
   "source": [
    "# Compare the 'simple' and 'weighted' means\n",
    "fig, axs = plt.subplots(1, 2, figsize=(8, 4), constrained_layout=True, sharex=True, sharey=True,)\n",
    "sm.plot(kind = 'bar', ax = axs[0])\n",
    "wm.plot(kind = 'bar', ax = axs[1])\n",
    "\n",
    "fig.suptitle(\"Mean of ROIs by Genre\", size = 15)\n",
    "\n",
    "axs[0].set_title('Simple Mean', size=13)\n",
    "axs[1].set_title('Weighted Mean', size=13)\n",
    "\n",
    "axs[0].xaxis.label.set_visible(False)\n",
    "axs[1].xaxis.label.set_visible(False)\n",
    "\n",
    "fig.text(0.5, -0.01, 'Genre', ha='center', size = 12)\n",
    "fig.text(-0.01, 0.5, 'ROI', va='center', rotation='vertical', size = 12);"
   ]
  },
  {
   "cell_type": "markdown",
   "metadata": {},
   "source": [
    "# 6. Did high score movies achieve high ROI? (Q3)<a class=\"anchor\" id=\"ch6\"></a>"
   ]
  },
  {
   "cell_type": "markdown",
   "metadata": {},
   "source": [
    "## 6.1. Scatter plot"
   ]
  },
  {
   "cell_type": "code",
   "execution_count": 79,
   "metadata": {},
   "outputs": [
    {
     "data": {
      "image/png": "[encoded data removed]",
      "text/plain": [
       "<Figure size 576x396 with 1 Axes>"
      ]
     },
     "metadata": {},
     "output_type": "display_data"
    }
   ],
   "source": [
    "ax = plt.axes()\n",
    "plt.scatter(x = df['vote_average'], y=df['ROI'])\n",
    "ax.set(xlabel = \"Vote Score\", ylabel='ROI',\n",
    "      title='Vote Score vs ROI');"
   ]
  },
  {
   "cell_type": "markdown",
   "metadata": {},
   "source": [
    "## 6.2. Vote scores by the ROI level"
   ]
  },
  {
   "cell_type": "code",
   "execution_count": 80,
   "metadata": {},
   "outputs": [
    {
     "data": {
      "image/png": "[encoded data removed]",
      "text/plain": [
       "<Figure size 576x396 with 1 Axes>"
      ]
     },
     "metadata": {},
     "output_type": "display_data"
    }
   ],
   "source": [
    "ax = df.assign(index=df.groupby('ROI_level').cumcount()).\\\n",
    "    pivot('index','ROI_level','vote_average').plot(kind='box')\n",
    "ax.set(xlabel = \"ROI Level\", ylabel='Vote Score',\n",
    "       title='Vote Score Distribution by ROI Level');"
   ]
  },
  {
   "cell_type": "code",
   "execution_count": 81,
   "metadata": {},
   "outputs": [
    {
     "data": {
      "text/plain": [
       "ROI_level\n",
       "Low            5.827682\n",
       "Moderate       6.055687\n",
       "Little High    6.217704\n",
       "High           6.548176\n",
       "Name: vote_average, dtype: float64"
      ]
     },
     "execution_count": 81,
     "metadata": {},
     "output_type": "execute_result"
    }
   ],
   "source": [
    "df.groupby('ROI_level')['vote_average'].mean()"
   ]
  },
  {
   "cell_type": "markdown",
   "metadata": {},
   "source": [
    "## 6.3. Findings\n",
    "With the scatter plot I do not find association between the vote average score and ROI. Vote scores by the ROI level show that the high ROI level movies led to a little higher scores, by about 0.7 (low ROI level, mean=5.8; high ROI level, mean= 6.5)."
   ]
  },
  {
   "cell_type": "markdown",
   "metadata": {},
   "source": [
    "# 7. Conclusions<a class=\"anchor\" id=\"ch7\"></a>\n",
    "\n",
    "## 7.1. Summary\n",
    "With the exploration, I found association between 1) budget size and ROI, 2) genres and ROI, and 3) vote average score and ROI. The following reports summary of each association:\n",
    "- I found contrary behavior between the low and high budget groups, in terms of their ROIs. Low budget movies are more likely to be big fail or big success, and high budget movies tend to end up in the middle. This behavior seems a consequence. Considering different capabilities in reaching the audience and the definition of ROI, this behavior seems natural. \n",
    "- The genre type that resulted in the highest ROI on average is 'Horror', and the smallest ROI, 'History',  among 17 genre types (excluding 'Western', 'Documentary', 'Foreign', and 'TV Movie'). \n",
    "- It was found that the higher ROI level group tends to associate with higher mean of the vote average.\n",
    "\n",
    "Based on the above findings, it is considered that production of low budget, horror movies that receive high score from the audience is likely to lead to high ROI.\n",
    "\n",
    "## 7.2. Limitation\n",
    "The exploration has several limitations as follows:\n",
    "- Only about a third of the original datapoints were used in the analysis, since the rest had missing or outlying values. As well, there was no further work to check if any pattern exists in missing or outlying values.\n",
    "- In finding association between genres and ROIs, the effect of genre combination was not explored. For instance, let's assume the following dataset of four movies:\n",
    "\n",
    "| id | genres| ROI |\n",
    "|----|-------|-----|\n",
    "|1|Drama|2|\n",
    "|2|Drama, Family|8|\n",
    "|3|Drama, Horror|8|\n",
    "|4|Family|2|\n",
    "\n",
    "Calculation of weighted means indicates that the highest ROI genre is Horror (Drama, 5; Family 4; Horor, 8). If looking at the dataset, however, it is not sure if this is the power of the Horror genre or result of pairing with Drama, since it does not have movies that are described with only Horror.  \n",
    "\n",
    "## 7.3. Additional research questions\n",
    "The following presents questions whose answers may reveal deeper knowledge on relationships between the properties:\n",
    "- Is there association between budgets and genre types?\n",
    "- Is there association between budgets and vote scores?\n",
    "- Is there association between genre types and vote scores?"
   ]
  }
 ],
 "metadata": {
  "kernelspec": {
   "display_name": "Python 3",
   "language": "python",
   "name": "python3"
  },
  "language_info": {
   "codemirror_mode": {
    "name": "ipython",
    "version": 3
   },
   "file_extension": ".py",
   "mimetype": "text/x-python",
   "name": "python",
   "nbconvert_exporter": "python",
   "pygments_lexer": "ipython3",
   "version": "3.8.5"
  },
  "toc": {
   "base_numbering": 1,
   "nav_menu": {},
   "number_sections": true,
   "sideBar": true,
   "skip_h1_title": false,
   "title_cell": "Table of Contents",
   "title_sidebar": "Contents",
   "toc_cell": false,
   "toc_position": {
    "height": "calc(100% - 180px)",
    "left": "10px",
    "top": "150px",
    "width": "260.99px"
   },
   "toc_section_display": true,
   "toc_window_display": false
  }
 },
 "nbformat": 4,
 "nbformat_minor": 4
}
